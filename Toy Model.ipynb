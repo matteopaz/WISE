{
 "cells": [
  {
   "cell_type": "code",
   "execution_count": 1,
   "metadata": {},
   "outputs": [
    {
     "ename": "SyntaxError",
     "evalue": "invalid syntax (238538248.py, line 10)",
     "output_type": "error",
     "traceback": [
      "\u001b[0;36m  Cell \u001b[0;32mIn[1], line 10\u001b[0;36m\u001b[0m\n\u001b[0;31m    from helpers import\u001b[0m\n\u001b[0m                        ^\u001b[0m\n\u001b[0;31mSyntaxError\u001b[0m\u001b[0;31m:\u001b[0m invalid syntax\n"
     ]
    }
   ],
   "source": [
    "import torch\n",
    "import torch.nn as nn\n",
    "from torch.utils.data import DataLoader\n",
    "import sys\n",
    "import matplotlib.pyplot as plt\n",
    "\n",
    "ROOT = \"./\"\n",
    "sys.path.append(ROOT + 'lib/')\n",
    "\n",
    "from helpers import *\n",
    "from general_trainer import compete\n"
   ]
  },
  {
   "cell_type": "markdown",
   "metadata": {},
   "source": [
    "# Testing / Toy Model"
   ]
  },
  {
   "cell_type": "code",
   "execution_count": null,
   "metadata": {},
   "outputs": [],
   "source": [
    "class bigboy(nn.Module):\n",
    "  def __init__(self, out):\n",
    "    super().__init__()\n",
    "    self.av = nn.ReLU()\n",
    "\n",
    "    self.to_one = nn.Parameter(torch.zeros(6))\n",
    "\n",
    "    self.fc1 = nn.Linear(350, 200)\n",
    "    self.fc2 = nn.Linear(200, 100)\n",
    "    self.fc3 = nn.Linear(100, 10)\n",
    "\n",
    "\n",
    "\n",
    "    self.fc4 = nn.Linear(10, out)\n",
    "\n",
    "    self.prob = nn.Softmax(dim=1)\n",
    "\n",
    "  def forward(self, x):\n",
    "\n",
    "    # x = torch.einsum(\"bij,j->bi\", x, self.to_one)\n",
    "    x = x[:, :, 0]\n",
    "    T = x.shape[1]\n",
    "\n",
    "    pad = torch.zeros(x.shape[0], 350 - T).to(device)\n",
    "\n",
    "    padded = torch.cat((x, pad), dim=1)\n",
    "\n",
    "\n",
    "    current = padded\n",
    "\n",
    "    for f in (self.fc1, self.fc2, self.fc3, self.fc4):\n",
    "      current = self.av(f(current))\n",
    "\n",
    "    return self.prob(current)\n",
    "\n",
    "\n",
    "\n",
    "\n",
    "\n",
    "\n"
   ]
  },
  {
   "cell_type": "code",
   "execution_count": null,
   "metadata": {},
   "outputs": [],
   "source": [
    "class PseudoSet(Dataset):\n",
    "  def __init__(self, classes):\n",
    "    self.classes = classes\n",
    "\n",
    "    self.all = []\n",
    "    for i, class_ in enumerate(self.classes):\n",
    "      label = torch.zeros(len(self.classes))\n",
    "      label[i] = 1\n",
    "      for ex in class_:\n",
    "        self.all.append((ex, label))\n",
    "\n",
    "\n",
    "  def __getitem__(self, idx):\n",
    "    return self.all[idx]\n",
    "\n",
    "  def __len__(self):\n",
    "    return len(self.all)\n",
    "\n",
    "with open(ROOT + \"datasets/toy_data_train.pt\", \"rb\") as f:\n",
    "  toydata_train = torch.load(f, map_location=device)\n",
    "with open(ROOT + \"datasets/toy_data_valid.pt\", \"rb\") as f:\n",
    "  toydata_valid = torch.load(f, map_location=device)\n",
    "\n",
    "toytrain = DataLoader(toydata_train, batch_size=len(toydata_train), collate_fn=padded_collate, shuffle=True)\n",
    "toyvalid = DataLoader(toydata_valid, batch_size=len(toydata_valid), collate_fn=padded_collate, shuffle=True)"
   ]
  },
  {
   "cell_type": "code",
   "execution_count": null,
   "metadata": {},
   "outputs": [],
   "source": [
    "ex = toydata_train[100][0].cpu()\n",
    "plt.scatter(ex[:, -2], ex[:, 0])\n",
    "print(toydata_train[200][1])"
   ]
  },
  {
   "cell_type": "code",
   "execution_count": null,
   "metadata": {},
   "outputs": [],
   "source": [
    "# model = FluxAnomalyPredictionLSTM(15, 0.15, residual=0, features=6, out=3).to(device)\n",
    "# model = lstm(6, 20, 3).to(device)\n",
    "model = bigboy(3).to(device)\n",
    "\n",
    "\n",
    "optim = torch.optim.Adam(model.parameters(), lr=0.005, weight_decay=10**-6.5)\n",
    "loss_fn = nn.CrossEntropyLoss().to(device)\n",
    "\n",
    "trainers = [\n",
    "    (\"Flux Anomaly Predictor\", model, optim)\n",
    "]\n",
    "\n",
    "compete(trainers, 150, toytrain, toyvalid)\n"
   ]
  }
 ],
 "metadata": {
  "kernelspec": {
   "display_name": "Python 3",
   "language": "python",
   "name": "python3"
  },
  "language_info": {
   "codemirror_mode": {
    "name": "ipython",
    "version": 3
   },
   "file_extension": ".py",
   "mimetype": "text/x-python",
   "name": "python",
   "nbconvert_exporter": "python",
   "pygments_lexer": "ipython3",
   "version": "3.11.2"
  }
 },
 "nbformat": 4,
 "nbformat_minor": 2
}
