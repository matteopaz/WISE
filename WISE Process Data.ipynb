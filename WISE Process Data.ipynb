{
 "cells": [
  {
   "cell_type": "markdown",
   "metadata": {
    "id": "JPxTVATuLewu"
   },
   "source": [
    "# Initialization"
   ]
  },
  {
   "cell_type": "code",
   "execution_count": 1,
   "metadata": {
    "executionInfo": {
     "elapsed": 49479,
     "status": "ok",
     "timestamp": 1698978785905,
     "user": {
      "displayName": "Matteo",
      "userId": "07662895649750931658"
     },
     "user_tz": 420
    },
    "id": "s94PwGPeKJIT"
   },
   "outputs": [],
   "source": [
    "%%capture\n",
    "if True:\n",
    "  !pip install astroquery\n",
    "  !pip install plotly\n",
    "  !pip install kaleido\n",
    "  !pip install nbformat"
   ]
  },
  {
   "cell_type": "code",
   "execution_count": null,
   "metadata": {
    "id": "-13UXM7xeZAE"
   },
   "outputs": [],
   "source": [
    "import numpy as np\n",
    "import torch\n",
    "from rich import print\n",
    "import pickle\n",
    "import plotly.graph_objects as go\n",
    "import random\n",
    "from torch.utils.data import Dataset\n",
    "from astropy.io import ascii\n",
    "import astropy.units as u\n",
    "from astroquery.ipac.irsa import Irsa\n",
    "import pandas as pd\n",
    "import scipy as sp\n",
    "from sklearn.cluster import DBSCAN\n",
    "import matplotlib.pyplot as plt\n",
    "import time\n",
    "import os\n",
    "import sys\n",
    "from google.colab import drive\n",
    "drive.mount('/content/drive/')\n",
    "ROOT = os.path.join(\"/content\", \"drive\", \"MyDrive\", \"Colab_Data\", \"src/\")\n",
    "sys.path.append(ROOT + \"common_code\")\n",
    "\n",
    "from plotly_style import update_layout\n",
    "from flux_table import get_flux\n",
    "from fluxtable_to_tensor import fluxtable_to_tensor\n",
    "\n",
    "def read_tblfile(filename):\n",
    "  tbl = ascii.read(filename)\n",
    "  return tbl.to_pandas()\n",
    "\n",
    "\n",
    "torch.set_default_dtype(torch.float64)\n",
    "\n",
    "neowise = 'neowiser_p1bs_psd'\n",
    "min_qual_frame = 4\n",
    "min_obj_qual = 3\n",
    "\n",
    "test_cutoff = 0.9\n",
    "\n",
    "QUERY = False # Toggle querying - Only do this if youve changed the data.csvs"
   ]
  },
  {
   "cell_type": "markdown",
   "metadata": {
    "id": "uPVHCeHrK94N"
   },
   "source": [
    "# Spreadsheets to Data Tables\n"
   ]
  },
  {
   "cell_type": "code",
   "execution_count": null,
   "metadata": {
    "id": "rVtcWMwlfeef"
   },
   "outputs": [],
   "source": [
    "if QUERY:\n",
    "  data = {\n",
    "      \"null\": {\n",
    "\n",
    "      },\n",
    "      \"nova\": {\n",
    "\n",
    "      },\n",
    "      \"pulsating_var\": {\n",
    "\n",
    "      },\n",
    "      \"transit\": {\n",
    "\n",
    "      }\n",
    "  }\n",
    "\n",
    "  sheets = ROOT + \"sheets/\"\n",
    "\n",
    "  for roots, dirs, files in os.walk(sheets):\n",
    "    for name in files:\n",
    "      bucket = data[name[:-4]] # remove .csv\n",
    "      # if name[:-4] != \"null\":\n",
    "      #   continue\n",
    "\n",
    "      df = pd.read_csv(sheets + name)\n",
    "      print(name + \": \", len(df.loc[df[\"qual\"] >= min_obj_qual]), \"\\n\")\n",
    "      df.dropna(axis=0, how=\"any\", inplace=True)\n",
    "      print(name + \": \", len(df.loc[df[\"qual\"] >= min_obj_qual]), \"\\n\")\n",
    "\n",
    "      rows = len(df)\n",
    "\n",
    "\n",
    "      i = 0\n",
    "      for objname, ra, dec, rad, qual in zip(df[\"Name\"], df[\"RAJ2000\"], df[\"DecJ2000\"], df[\"query_rad\"], df[\"qual\"]):\n",
    "        i += 1\n",
    "        radius = float(rad)\n",
    "        qual = int(qual)\n",
    "        if qual < min_obj_qual:\n",
    "          continue\n",
    "        tbl = Irsa.query_region(\"{} {}\".format(ra, dec), catalog=neowise, spatial=\"Cone\",\n",
    "                            radius=radius * u.arcsec)\n",
    "\n",
    "        tbl = tbl.to_pandas()\n",
    "        tbl = tbl.loc[tbl[\"qual_frame\"]>= min_qual_frame]\n",
    "\n",
    "        # print(objname, tbl.loc[:, \"mjd\"].to_numpy())\n",
    "\n",
    "\n",
    "        bucket[objname] = {}\n",
    "        bucket[objname][\"df\"] = tbl\n",
    "        bucket[objname][\"np\"] = tbl.to_numpy()\n",
    "        bucket[objname][\"cluster\"] = {}\n",
    "        bucket[objname][\"flux\"] = {}\n",
    "        print(\"\\r Progress: \", i*100 // rows, \"% on\", str(name), end='', flush=True)\n",
    "\n"
   ]
  },
  {
   "cell_type": "code",
   "execution_count": null,
   "metadata": {
    "colab": {
     "base_uri": "https://localhost:8080/",
     "height": 34
    },
    "executionInfo": {
     "elapsed": 677,
     "status": "ok",
     "timestamp": 1698126346666,
     "user": {
      "displayName": "Matteo",
      "userId": "07662895649750931658"
     },
     "user_tz": 420
    },
    "id": "9VPnpTY6gEDw",
    "outputId": "a1e15d1a-325e-44a5-d684-7074f9c57805"
   },
   "outputs": [
    {
     "data": {
      "text/html": [
       "<pre style=\"white-space:pre;overflow-x:auto;line-height:normal;font-family:Menlo,'DejaVu Sans Mono',consolas,'Courier New',monospace\">Avg Clustering Time: <span style=\"color: #008080; text-decoration-color: #008080; font-weight: bold\">0.0020715521120291667</span>\n",
       "</pre>\n"
      ],
      "text/plain": [
       "Avg Clustering Time: \u001b[1;36m0.0020715521120291667\u001b[0m\n"
      ]
     },
     "metadata": {},
     "output_type": "display_data"
    }
   ],
   "source": [
    "plotting = False\n",
    "\n",
    "if QUERY:\n",
    "  eps = {\n",
    "      \"null\": 1.25/3600,\n",
    "      \"nova\": 2/3600,\n",
    "      \"transit\": 1.5/3600,\n",
    "      \"pulsating_var\": 1.5/3600\n",
    "  }\n",
    "\n",
    "  min_pts = {\n",
    "      \"null\": 7,\n",
    "      \"nova\": 4,\n",
    "      \"transit\": 5,\n",
    "      \"pulsating_var\": 5\n",
    "  }\n",
    "\n",
    "  min_cluster_pts = 20\n",
    "\n",
    "\n",
    "  total_clustering_time = 0\n",
    "  num_clusterings = 0\n",
    "  for name in data:\n",
    "    for tbl in data[name]:\n",
    "      np_tbl = data[name][tbl][\"np\"]\n",
    "\n",
    "      cluster_tbl = np_tbl[:, :2]\n",
    "\n",
    "      t1 = time.perf_counter()\n",
    "\n",
    "      clstr = DBSCAN(eps=eps[name], min_samples=min_pts[name]).fit(cluster_tbl) # high minsamples cutting out some very sparse examples\n",
    "\n",
    "      t2 = time.perf_counter()\n",
    "      total_clustering_time += t2 - t1\n",
    "      num_clusterings += 1\n",
    "\n",
    "      labels = clstr.labels_\n",
    "\n",
    "\n",
    "      data[name][tbl][\"cluster\"] = {}\n",
    "      noisepct = 0\n",
    "      for i in range(len(labels)): # For all the pts\n",
    "        if labels[i] != -1:\n",
    "          if labels[i] not in data[name][tbl][\"cluster\"]:\n",
    "            data[name][tbl][\"cluster\"][labels[i]] = []\n",
    "\n",
    "          data[name][tbl][\"cluster\"][labels[i]].append(np_tbl[i]) # Put it into the cluster dict with its label as key\n",
    "          # print(\"Row \", i, \" has gone to cluster\", labels[i])\n",
    "          # l = [len(data[name][tbl][\"cluster\"][i]) for i in range(len(data[name][tbl][\"cluster\"].keys()))]\n",
    "          # print(l)\n",
    "\n",
    "        else:\n",
    "          noisepct += 1\n",
    "\n",
    "      traces = []\n",
    "\n",
    "\n",
    "      for cluster_label in data[name][tbl][\"cluster\"].copy(): #  ------- TODO: Check that non-reigon query tables are only returning ONE CLUSTER. --------\n",
    "        data[name][tbl][\"cluster\"][cluster_label] = np.array(data[name][tbl][\"cluster\"][cluster_label])\n",
    "\n",
    "        if len(data[name][tbl][\"cluster\"][cluster_label]) < min_cluster_pts:\n",
    "          del data[name][tbl][\"cluster\"][cluster_label]\n",
    "\n",
    "\n",
    "\n",
    "\n",
    "        if plotting:\n",
    "          pts = data[name][tbl][\"cluster\"][cluster_label]\n",
    "          tr = go.Scatter(\n",
    "              x=pts[:, 0],\n",
    "              y=pts[:, 1],\n",
    "              marker=dict(size=6.5, opacity=.95),\n",
    "              mode=\"markers\",\n",
    "              name=\"Cluster (Star) \" + str(cluster_label)\n",
    "          )\n",
    "          traces.append(tr)\n",
    "\n",
    "\n",
    "      if plotting:\n",
    "        fig = go.Figure()\n",
    "\n",
    "        for trace in traces:\n",
    "          fig.add_trace(trace)\n",
    "\n",
    "        fig.layout.width = 800\n",
    "        fig.layout.height = 0.7 * fig.layout.width\n",
    "\n",
    "        update_layout(fig, constant_legend_itemsizing=True, legend_out=True)\n",
    "\n",
    "        fig.show()\n",
    "\n",
    "\n",
    "  print(\"Avg Clustering Time:\", total_clustering_time/num_clusterings)\n"
   ]
  },
  {
   "cell_type": "code",
   "execution_count": null,
   "metadata": {
    "colab": {
     "base_uri": "https://localhost:8080/",
     "height": 245
    },
    "executionInfo": {
     "elapsed": 6,
     "status": "error",
     "timestamp": 1698126830425,
     "user": {
      "displayName": "Matteo",
      "userId": "07662895649750931658"
     },
     "user_tz": 420
    },
    "id": "k4P3UBIkgTm4",
    "outputId": "9cd5212c-584a-42d0-a09d-0b7fbdd2e39b"
   },
   "outputs": [
    {
     "ename": "TypeError",
     "evalue": "ignored",
     "output_type": "error",
     "traceback": [
      "\u001b[0;31m---------------------------------------------------------------------------\u001b[0m",
      "\u001b[0;31mTypeError\u001b[0m                                 Traceback (most recent call last)",
      "\u001b[0;32m<ipython-input-67-8586cbf41451>\u001b[0m in \u001b[0;36m<cell line: 1>\u001b[0;34m()\u001b[0m\n\u001b[1;32m      3\u001b[0m     \u001b[0;32mfor\u001b[0m \u001b[0mtbl\u001b[0m \u001b[0;32min\u001b[0m \u001b[0mdata\u001b[0m\u001b[0;34m[\u001b[0m\u001b[0mname\u001b[0m\u001b[0;34m]\u001b[0m\u001b[0;34m:\u001b[0m\u001b[0;34m\u001b[0m\u001b[0;34m\u001b[0m\u001b[0m\n\u001b[1;32m      4\u001b[0m       \u001b[0;32mfor\u001b[0m \u001b[0mcluster_label\u001b[0m \u001b[0;32min\u001b[0m \u001b[0mdata\u001b[0m\u001b[0;34m[\u001b[0m\u001b[0mname\u001b[0m\u001b[0;34m]\u001b[0m\u001b[0;34m[\u001b[0m\u001b[0mtbl\u001b[0m\u001b[0;34m]\u001b[0m\u001b[0;34m[\u001b[0m\u001b[0;34m\"cluster\"\u001b[0m\u001b[0;34m]\u001b[0m\u001b[0;34m:\u001b[0m\u001b[0;34m\u001b[0m\u001b[0;34m\u001b[0m\u001b[0m\n\u001b[0;32m----> 5\u001b[0;31m         \u001b[0mflux_table\u001b[0m \u001b[0;34m=\u001b[0m \u001b[0mget_flux\u001b[0m\u001b[0;34m(\u001b[0m\u001b[0mdata\u001b[0m\u001b[0;34m[\u001b[0m\u001b[0mname\u001b[0m\u001b[0;34m]\u001b[0m\u001b[0;34m[\u001b[0m\u001b[0mtbl\u001b[0m\u001b[0;34m]\u001b[0m\u001b[0;34m[\u001b[0m\u001b[0;34m\"cluster\"\u001b[0m\u001b[0;34m]\u001b[0m\u001b[0;34m[\u001b[0m\u001b[0mcluster_label\u001b[0m\u001b[0;34m]\u001b[0m\u001b[0;34m,\u001b[0m \u001b[0mdata\u001b[0m\u001b[0;34m[\u001b[0m\u001b[0mname\u001b[0m\u001b[0;34m]\u001b[0m\u001b[0;34m[\u001b[0m\u001b[0mtbl\u001b[0m\u001b[0;34m]\u001b[0m\u001b[0;34m[\u001b[0m\u001b[0;34m\"df\"\u001b[0m\u001b[0;34m]\u001b[0m\u001b[0;34m.\u001b[0m\u001b[0mcolumns\u001b[0m\u001b[0;34m.\u001b[0m\u001b[0mtolist\u001b[0m\u001b[0;34m(\u001b[0m\u001b[0;34m)\u001b[0m\u001b[0;34m)\u001b[0m\u001b[0;34m\u001b[0m\u001b[0;34m\u001b[0m\u001b[0m\n\u001b[0m\u001b[1;32m      6\u001b[0m         \u001b[0;31m# print(len(flux_table[\"raw\"][\"mjd\"]), len(set(flux_table[\"raw\"][\"mjd\"])))\u001b[0m\u001b[0;34m\u001b[0m\u001b[0;34m\u001b[0m\u001b[0m\n\u001b[1;32m      7\u001b[0m \u001b[0;34m\u001b[0m\u001b[0m\n",
      "\u001b[0;31mTypeError\u001b[0m: get_flux() takes 1 positional argument but 2 were given"
     ]
    }
   ],
   "source": [
    "if QUERY:\n",
    "  for name in data:\n",
    "    for tbl in data[name]:\n",
    "      for cluster_label in data[name][tbl][\"cluster\"]:\n",
    "        flux_table = get_flux(data[name][tbl][\"cluster\"][cluster_label], data[name][tbl][\"df\"].columns.tolist())\n",
    "        # print(len(flux_table[\"raw\"][\"mjd\"]), len(set(flux_table[\"raw\"][\"mjd\"])))\n",
    "\n",
    "        data[name][tbl][\"flux\"][cluster_label] = flux_table\n",
    "        # print(tbl)\n",
    "        # print(len((data[name][tbl][\"df\"].loc[:, \"mjd\"].to_numpy())), len(set(data[name][tbl][\"df\"].loc[:, \"mjd\"].to_numpy())))\n"
   ]
  },
  {
   "cell_type": "code",
   "execution_count": null,
   "metadata": {
    "id": "OjogbFuFPJ3F"
   },
   "outputs": [],
   "source": [
    "data[name][tbl][\"df\"].columns"
   ]
  },
  {
   "cell_type": "code",
   "execution_count": null,
   "metadata": {
    "id": "FGxnRtTTF_y6"
   },
   "outputs": [],
   "source": [
    "buckets = {\"null\": [], \"nova\": [], \"pulsating_var\": [], \"transit\": []}\n",
    "buckets_test = {\"null\": [], \"nova\": [], \"pulsating_var\": [], \"transit\": []}\n",
    "\n",
    "if not QUERY:\n",
    "  with open(ROOT + \"datasets/buckets.pkl\", \"rb\") as f: # Save buckets\n",
    "    buckets = pickle.load(f)\n",
    "else:\n",
    "  for kind in buckets_test:\n",
    "    i = 0\n",
    "    for tbl in data[kind]:\n",
    "      if i < min(test_cutoff * len(data[kind]) - 1, len(data[kind]) - 1):\n",
    "        for idx in data[kind][tbl][\"flux\"]:\n",
    "          buckets[kind].append(data[kind][tbl][\"flux\"][idx]) # Populate buckets\n",
    "          i+=1\n",
    "      else:\n",
    "        print(kind, \" to test\")\n",
    "        buckets_test[kind].append(data[kind][tbl][\"df\"])\n",
    "\n",
    "\n",
    "  with open(ROOT + \"datasets/buckets.pkl\", \"wb\") as f: # Save buckets\n",
    "    pickle.dump(buckets, f)\n",
    "\n",
    "  with open(ROOT + \"datasets/test_buckets.pkl\", \"wb\") as f: # Save buckets\n",
    "    pickle.dump(buckets_test, f)"
   ]
  },
  {
   "cell_type": "code",
   "execution_count": null,
   "metadata": {
    "colab": {
     "base_uri": "https://localhost:8080/",
     "height": 51
    },
    "executionInfo": {
     "elapsed": 417,
     "status": "ok",
     "timestamp": 1698207996188,
     "user": {
      "displayName": "Matteo",
      "userId": "07662895649750931658"
     },
     "user_tz": 420
    },
    "id": "H1ph4JlggaZi",
    "outputId": "08b91ad7-acba-4a72-f04e-44681bd8b2c5"
   },
   "outputs": [
    {
     "data": {
      "text/html": [
       "<pre style=\"white-space:pre;overflow-x:auto;line-height:normal;font-family:Menlo,'DejaVu Sans Mono',consolas,'Courier New',monospace\">Total examples of each class: <span style=\"font-weight: bold\">[</span> <span style=\"color: #008080; text-decoration-color: #008080; font-weight: bold\">5</span> <span style=\"color: #008080; text-decoration-color: #008080; font-weight: bold\">21</span> <span style=\"color: #008080; text-decoration-color: #008080; font-weight: bold\">44</span> <span style=\"color: #008080; text-decoration-color: #008080; font-weight: bold\">43</span><span style=\"font-weight: bold\">]</span>\n",
       "</pre>\n"
      ],
      "text/plain": [
       "Total examples of each class: \u001b[1m[\u001b[0m \u001b[1;36m5\u001b[0m \u001b[1;36m21\u001b[0m \u001b[1;36m44\u001b[0m \u001b[1;36m43\u001b[0m\u001b[1m]\u001b[0m\n"
      ]
     },
     "metadata": {},
     "output_type": "display_data"
    },
    {
     "data": {
      "text/html": [
       "<pre style=\"white-space:pre;overflow-x:auto;line-height:normal;font-family:Menlo,'DejaVu Sans Mono',consolas,'Courier New',monospace\">Weights: <span style=\"font-weight: bold\">[</span><span style=\"color: #008080; text-decoration-color: #008080; font-weight: bold\">0.31858407</span> <span style=\"color: #008080; text-decoration-color: #008080; font-weight: bold\">0.27138643</span> <span style=\"color: #008080; text-decoration-color: #008080; font-weight: bold\">0.20353982</span> <span style=\"color: #008080; text-decoration-color: #008080; font-weight: bold\">0.20648968</span><span style=\"font-weight: bold\">]</span>\n",
       "</pre>\n"
      ],
      "text/plain": [
       "Weights: \u001b[1m[\u001b[0m\u001b[1;36m0.31858407\u001b[0m \u001b[1;36m0.27138643\u001b[0m \u001b[1;36m0.20353982\u001b[0m \u001b[1;36m0.20648968\u001b[0m\u001b[1m]\u001b[0m\n"
      ]
     },
     "metadata": {},
     "output_type": "display_data"
    }
   ],
   "source": [
    "amt_train = 0.7\n",
    "\n",
    "class_weights = np.array([len(buckets[\"null\"]), len(buckets[\"nova\"]), len(buckets[\"pulsating_var\"]), len(buckets[\"transit\"])])\n",
    "\n",
    "\n",
    "print(\"Total examples of each class:\", class_weights)\n",
    "total = np.sum(class_weights)\n",
    "class_weights = total - class_weights\n",
    "class_weights = class_weights / (3 * total)\n",
    "print(\"Weights:\", class_weights)\n",
    "\n",
    "class_weights_ = torch.tensor(class_weights)\n",
    "\n",
    "\n",
    "buckets_train = {}\n",
    "buckets_valid = {}\n",
    "\n",
    "for name, data_dict_list in buckets.items(): # Split training items\n",
    "    total_examples = len(data_dict_list)\n",
    "    train_end = int(total_examples * amt_train)\n",
    "\n",
    "    buckets_train[name] = data_dict_list[:train_end]\n",
    "    buckets_valid[name] = data_dict_list[train_end:]"
   ]
  },
  {
   "cell_type": "markdown",
   "metadata": {
    "id": "kb8AksyKLWl3"
   },
   "source": [
    "# Dataset and Augmentation"
   ]
  },
  {
   "cell_type": "code",
   "execution_count": null,
   "metadata": {
    "id": "2Ko33v2qGQdR"
   },
   "outputs": [],
   "source": [
    "from copy import copy\n",
    "\n",
    "def swap(pct):\n",
    "  def inner(data):\n",
    "    new = torch.clone(data)\n",
    "    n = int(pct*len(new)) // 2\n",
    "    for _ in range(n):\n",
    "      one, two = random.sample(range(len(new)), 2)\n",
    "\n",
    "      temp = torch.clone(new[one])\n",
    "\n",
    "      new[one] = new[two]\n",
    "      new[two] = temp\n",
    "    return new\n",
    "  return inner\n",
    "\n",
    "\n",
    "def flip_x(data):\n",
    "  return torch.flip(data, (0,))\n",
    "\n",
    "def flip_y(data):\n",
    "  new = torch.clone(data)\n",
    "  new[:, 0] = -1 * new[:, 0]\n",
    "  new[:, 2] = -1 * new[:, 2]\n",
    "  return new\n",
    "\n",
    "def resample(std, pct=0.25):\n",
    "  def inner(data):\n",
    "    new = torch.clone(data)\n",
    "    stddev = [0 for _ in range(len(new))]\n",
    "\n",
    "    for i in random.sample(range(len(stddev)), int(pct*len(stddev))):\n",
    "      stddev[i] = std\n",
    "\n",
    "    stddev = torch.tensor(stddev)\n",
    "\n",
    "    new[:, 0] = torch.normal(new[:, 0], stddev)\n",
    "    new[:, 2] = torch.normal(new[:, 2], stddev)\n",
    "    return new\n",
    "\n",
    "  return inner\n",
    "\n",
    "def rescale_x(data):\n",
    "  s = random.random() *1.5\n",
    "\n",
    "  new = torch.clone(data)\n",
    "\n",
    "  new[:, -1] = s * new[:, -1]\n",
    "\n",
    "  return new\n",
    "\n",
    "def rescale_y(data):\n",
    "  s = random.random() * 1.5\n",
    "\n",
    "  new = torch.clone(data)\n",
    "\n",
    "  new[:, 0] = s * new[:, 0]\n",
    "  new[:, 2] = s * new[:, 2]\n",
    "\n",
    "  return new\n",
    "\n",
    "\n",
    "aug = [(rescale_x, 1), (rescale_y, 1), (resample(0.65, 0.35), 1), (flip_x, 1), (swap(0.1), 1), (flip_y, 1), (swap(0.2), 1), (resample(1, 0.25), 1)]\n",
    "\n",
    "class FluxSet(Dataset):\n",
    "  def __init__(self, classes, augmentation=None, choose=3, augmentation_frac=3, equalize=False):\n",
    "\n",
    "    self.choose = choose\n",
    "    self.augmentation_frac = augmentation_frac\n",
    "\n",
    "    self.buckets = {\"null\": [], \"nova\": [], \"pulsating_var\": [], \"transit\": []}\n",
    "    self.class_weights = class_weights_\n",
    "    for kind in classes:\n",
    "      flux_dicts = classes[kind]\n",
    "      for flux in flux_dicts: # each flux dict\n",
    "\n",
    "\n",
    "        timeseries_array = self.to_np(flux)\n",
    "\n",
    "        self.buckets[kind].append(torch.tensor(timeseries_array))\n",
    "\n",
    "    self.all = []\n",
    "\n",
    "    if augmentation:\n",
    "      for kind in self.buckets:\n",
    "        new = []\n",
    "        new += self.buckets[kind]\n",
    "        for ex in self.buckets[kind]:\n",
    "          for _ in range(self.augmentation_frac):\n",
    "            new += self.apply_pipeline([ex], random.sample(augmentation, choose))\n",
    "\n",
    "        self.buckets[kind] = new\n",
    "\n",
    "      # Equalization\n",
    "      if equalize:\n",
    "        lens = [len(self.buckets[b]) for b in self.buckets]\n",
    "        makeup = [max(lens) - v for v in lens]\n",
    "\n",
    "        for i, count in enumerate(makeup):\n",
    "          key = list(self.buckets.keys())[i]\n",
    "          for ex in self.buckets[key]:\n",
    "            if count <= 0:\n",
    "              break\n",
    "            self.buckets[key] += self.apply_pipeline([ex], random.sample(augmentation, choose))\n",
    "            count -= 1\n",
    "        # print(lens, [len(self.buckets[b]) for b in self.buckets])\n",
    "\n",
    "\n",
    "\n",
    "\n",
    "\n",
    "    for kind in self.buckets: # Data, Label pairing\n",
    "      for i, ex in enumerate(self.buckets[kind]):\n",
    "\n",
    "        label = torch.zeros(4)\n",
    "        label[list(self.buckets.keys()).index(kind)] = 1\n",
    "\n",
    "        self.all.append((ex, label))\n",
    "        self.buckets[kind][i] = ((ex, label))\n",
    "\n",
    "  def apply_pipeline(self, examples, pipeline):\n",
    "    p = copy(pipeline)\n",
    "\n",
    "    if len(p) == 0:\n",
    "      return examples\n",
    "\n",
    "    new = []\n",
    "    fn, times = p.pop(0)\n",
    "    for ex in examples:\n",
    "      for _ in range(times):\n",
    "        new.append(fn(ex))\n",
    "      del ex\n",
    "\n",
    "    return self.apply_pipeline(new, p)\n",
    "\n",
    "  def to_np(self, flux): # IMPORTANT! Defines order of data\n",
    "      # Len(pts) x 5 matrix\n",
    "      w1 = flux[\"norm\"][\"w1\"]\n",
    "      w1sig = flux[\"norm\"][\"w1sig\"]\n",
    "      w2 = flux[\"norm\"][\"w2\"]\n",
    "      w2sig = flux[\"norm\"][\"w2sig\"]\n",
    "      dt = flux[\"norm\"][\"dt\"]\n",
    "      day = flux[\"norm\"][\"day\"]\n",
    "\n",
    "      w1f = flux[\"norm\"][\"w1flux\"]\n",
    "\n",
    "      std_val = (flux[\"norm\"][\"w1std\"] + flux[\"norm\"][\"w2std\"]) / 2\n",
    "\n",
    "      std = np.array([std_val for _ in w1])\n",
    "\n",
    "      # Len(pts) x 5 matrix\n",
    "      # IMPORTANT! Defines order of data\n",
    "      return np.stack((w1f, std, day), axis=0).T\n",
    "\n",
    "\n",
    "\n",
    "\n",
    "  def __getitem__(self, idx):\n",
    "    # Commented out is random sampling\n",
    "    # key = random.choice(list(self.buckets.keys()))\n",
    "    # item = random.choice(self.buckets[key])\n",
    "    # return item\n",
    "    return self.all[idx]\n",
    "\n",
    "  def __len__(self):\n",
    "    return len(self.all)"
   ]
  },
  {
   "cell_type": "code",
   "execution_count": null,
   "metadata": {
    "colab": {
     "base_uri": "https://localhost:8080/"
    },
    "executionInfo": {
     "elapsed": 708,
     "status": "ok",
     "timestamp": 1698124820275,
     "user": {
      "displayName": "Matteo",
      "userId": "07662895649750931658"
     },
     "user_tz": 420
    },
    "id": "gVFYIoC3AL6w",
    "outputId": "177d9c6b-b50c-4ed1-fd30-34e94419a8c9"
   },
   "outputs": [
    {
     "data": {
      "text/plain": [
       "torch.float64"
      ]
     },
     "execution_count": 28,
     "metadata": {},
     "output_type": "execute_result"
    }
   ],
   "source": [
    "train = FluxSet(buckets_train, aug, equalize=True)\n",
    "valid = FluxSet(buckets_valid)\n",
    "\n",
    "with open(ROOT + \"datasets/data_train.pt\", \"wb\") as f:\n",
    "  torch.save(train, f)\n",
    "with open(ROOT + \"datasets/data_valid.pt\", \"wb\") as f:\n",
    "  torch.save(valid, f)\n",
    "\n",
    "len(train)\n",
    "\n",
    "train[0][0].dtype"
   ]
  },
  {
   "cell_type": "code",
   "execution_count": null,
   "metadata": {
    "colab": {
     "base_uri": "https://localhost:8080/",
     "height": 34
    },
    "executionInfo": {
     "elapsed": 303,
     "status": "ok",
     "timestamp": 1698125003860,
     "user": {
      "displayName": "Matteo",
      "userId": "07662895649750931658"
     },
     "user_tz": 420
    },
    "id": "cbyAhOM7Inpm",
    "outputId": "4490b93c-cc61-4fbd-c9b0-38384e4ee639"
   },
   "outputs": [
    {
     "data": {
      "text/html": [
       "<pre style=\"white-space:pre;overflow-x:auto;line-height:normal;font-family:Menlo,'DejaVu Sans Mono',consolas,'Courier New',monospace\">The dataset contains NaN values.\n",
       "</pre>\n"
      ],
      "text/plain": [
       "The dataset contains NaN values.\n"
      ]
     },
     "metadata": {},
     "output_type": "display_data"
    }
   ],
   "source": [
    "has_nan = False  # Initialize a flag to indicate the presence of NaN values\n",
    "\n",
    "for sample in train:\n",
    "    # Check if the sample contains NaN values\n",
    "    if torch.isnan(sample[0]).any():\n",
    "        has_nan = True\n",
    "        break  # Exit the loop as soon as a NaN is found\n",
    "\n",
    "if has_nan:\n",
    "    print(\"The dataset contains NaN values.\")\n",
    "else:\n",
    "    print(\"The dataset does not contain NaN values.\")"
   ]
  },
  {
   "cell_type": "markdown",
   "metadata": {
    "id": "fM8QWxxDYLq4"
   },
   "source": [
    "# Toy Dataset"
   ]
  },
  {
   "cell_type": "code",
   "execution_count": null,
   "metadata": {
    "id": "DP9fq8HlYOOg"
   },
   "outputs": [],
   "source": [
    "def N(u, var):\n",
    "  return np.random.normal(u, np.sqrt(var))\n",
    "\n",
    "def sample(func, var, minx, maxx, pts, sparsity=0.5):\n",
    "  rng = np.random.default_rng()\n",
    "  res = (maxx-minx) / pts\n",
    "\n",
    "  all_x = []\n",
    "  for i in range(pts):\n",
    "    if rng.random() <= sparsity:\n",
    "      continue\n",
    "\n",
    "    all_x.append(minx + i*res)\n",
    "\n",
    "\n",
    "\n",
    "  all_y = [func(x) for x in all_x]\n",
    "\n",
    "  valrange = max(all_y) - min(all_y)\n",
    "  all_y = [N(y, var*valrange) for y in all_y]\n",
    "\n",
    "  all_y = sp.stats.zscore(all_y)\n",
    "  return (all_x, all_y)\n",
    "\n",
    "def pos_encoding(unsorted):\n",
    "  unsorted = np.array(unsorted)\n",
    "  sorted = unsorted[unsorted[:, -1].argsort()] # sort ascending\n",
    "\n",
    "  times = [0] + list(sorted[:, -1])\n",
    "  pos = np.array([times[i] - times[i-1] for i in range(1, len(times))])\n",
    "\n",
    "  sorted[:, -1] = pos # change abs time to positional encoding\n",
    "  return torch.tensor(sorted)"
   ]
  },
  {
   "cell_type": "code",
   "execution_count": null,
   "metadata": {
    "id": "H3nAQqd9YZWy"
   },
   "outputs": [],
   "source": [
    "def n_examples(fn_gen, var, minx, maxx, pts, sparsity, N):\n",
    "  ex = []\n",
    "\n",
    "  fn = fn_gen()\n",
    "\n",
    "  for i in range(N):\n",
    "    x, y = sample(fn, var, minx, maxx, pts, sparsity)\n",
    "    ts = []\n",
    "    for j in range(len(x)):\n",
    "      xpt = x[j]\n",
    "      ypt = y[j]\n",
    "      ts.append(np.array([ypt - np.random.rand()*var*10, np.random.rand()*var*10, ypt + np.random.rand()*var*10, np.random.rand()*var*10, xpt/np.max(x), xpt]))\n",
    "\n",
    "    ts = pos_encoding(ts)\n",
    "\n",
    "    ts = torch.tensor(ts)\n",
    "\n",
    "    ex.append(ts)\n",
    "\n",
    "  return ex\n",
    "\n",
    "class PseudoSet(Dataset):\n",
    "  def __init__(self, classes):\n",
    "    self.classes = classes\n",
    "\n",
    "    self.all = []\n",
    "    for i, class_ in enumerate(self.classes):\n",
    "      label = torch.zeros(len(self.classes))\n",
    "      label[i] = 1\n",
    "      for ex in class_:\n",
    "        self.all.append((ex, label))\n",
    "\n",
    "\n",
    "  def __getitem__(self, idx):\n",
    "    return self.all[idx]\n",
    "\n",
    "  def __len__(self):\n",
    "    return len(self.all)"
   ]
  },
  {
   "cell_type": "code",
   "execution_count": null,
   "metadata": {
    "id": "9pahaQ9KbuDM"
   },
   "outputs": [],
   "source": [
    "num_ex = 100\n",
    "var = 0.005\n",
    "\n",
    "s, u = np.random.rand()*75, np.random.rand()*310\n",
    "norm = lambda s, u, x: (1 / np.sqrt(s**2 * 2 * 3.141)) * np.exp(-0.5 * ((x - u) / s)**2)\n",
    "\n",
    "def linefn_gen():\n",
    "  m = np.random.rand()*100\n",
    "  return lambda x: m * x\n",
    "\n",
    "def logfn_gen():\n",
    "  a = np.random.rand()*2\n",
    "  b = np.random.rand()*75\n",
    "  return lambda x: a * np.log(b * x)\n",
    "\n",
    "def bellfn_gen():\n",
    "  s = np.random.rand()*12\n",
    "  u = (np.random.rand() - 0.5) * 6\n",
    "  norm = lambda s, u, x: (1 / np.sqrt(s**2 * 2 * 3.141)) * np.exp(-0.5 * ((x - u) / s)**2)\n",
    "  return lambda x: norm(s, u, x)\n",
    "\n",
    "\n",
    "lines = n_examples(linefn_gen, 5*var, 0, 1000, 267, 0.65, num_ex)\n",
    "logs = n_examples(logfn_gen, var, 0.1, 4, 267, 0.65, num_ex)\n",
    "bells = n_examples(bellfn_gen, 0.01*var, -10, 10, 267, 0.65, num_ex)\n",
    "\n",
    "def displayex(ex):\n",
    "  fig = go.Figure()\n",
    "  tr1 = go.Scatter(\n",
    "      x=ex[:, -2],\n",
    "      y=ex[:, 0],\n",
    "      mode='markers',\n",
    "      marker=dict(size=5, opacity=.75)\n",
    "  )\n",
    "  tr2 = go.Scatter(\n",
    "      x=ex[:, -2],\n",
    "      y=ex[:, 2],\n",
    "      mode='markers',\n",
    "      marker=dict(size=5, opacity=.75)\n",
    "  )\n",
    "\n",
    "  fig.add_trace(tr1)\n",
    "  fig.add_trace(tr2)\n",
    "\n",
    "  fig.show()\n",
    "\n",
    "displayex(lines[15])\n",
    "displayex(logs[15])\n",
    "displayex(bells[15])\n",
    "\n",
    "\n",
    "trainsplit = 0.7\n",
    "\n",
    "splitidx = int(0.7 * num_ex)\n",
    "\n",
    "train = PseudoSet((lines[:splitidx], logs[:splitidx], bells[:splitidx]))\n",
    "valid = PseudoSet((lines[splitidx:], logs[splitidx:], bells[splitidx:]))\n",
    "\n",
    "print(train[0][0].shape)\n",
    "\n",
    "with open(ROOT + \"datasets/toy_data_train.pt\", \"wb\") as f:\n",
    "  torch.save(train, f)\n",
    "with open(ROOT + \"datasets/toy_data_valid.pt\", \"wb\") as f:\n",
    "  torch.save(valid, f)\n",
    "\n"
   ]
  },
  {
   "cell_type": "markdown",
   "metadata": {
    "id": "ejR6LDG7LcsD"
   },
   "source": [
    "# Data Vis"
   ]
  },
  {
   "cell_type": "code",
   "execution_count": null,
   "metadata": {
    "colab": {
     "base_uri": "https://localhost:8080/",
     "height": 1000
    },
    "executionInfo": {
     "elapsed": 199,
     "status": "ok",
     "timestamp": 1695270022906,
     "user": {
      "displayName": "Matteo",
      "userId": "07662895649750931658"
     },
     "user_tz": 420
    },
    "id": "2TsQzzhgcSue",
    "outputId": "ae4ed0b4-5f0f-4fc8-c6bf-c23211bb29f9"
   },
   "outputs": [
    {
     "data": {
      "text/html": [
       "<pre style=\"white-space:pre;overflow-x:auto;line-height:normal;font-family:Menlo,'DejaVu Sans Mono',consolas,'Courier New',monospace\"><span style=\"color: #008080; text-decoration-color: #008080; font-weight: bold\">14</span>\n",
       "</pre>\n"
      ],
      "text/plain": [
       "\u001b[1;36m14\u001b[0m\n"
      ]
     },
     "metadata": {},
     "output_type": "display_data"
    },
    {
     "data": {
      "text/html": [
       "<html>\n",
       "<head><meta charset=\"utf-8\" /></head>\n",
       "<body>\n",
       "    <div>            <script src=\"https://cdnjs.cloudflare.com/ajax/libs/mathjax/2.7.5/MathJax.js?config=TeX-AMS-MML_SVG\"></script><script type=\"text/javascript\">if (window.MathJax && window.MathJax.Hub && window.MathJax.Hub.Config) {window.MathJax.Hub.Config({SVG: {font: \"STIX-Web\"}});}</script>                <script type=\"text/javascript\">window.PlotlyConfig = {MathJaxConfig: 'local'};</script>\n",
       "        <script charset=\"utf-8\" src=\"https://cdn.plot.ly/plotly-2.24.1.min.js\"></script>                <div id=\"0a9a6a32-9a8d-4829-baa7-a8498bb51fc2\" class=\"plotly-graph-div\" style=\"height:780.0px; width:1200px;\"></div>            <script type=\"text/javascript\">                                    window.PLOTLYENV=window.PLOTLYENV || {};                                    if (document.getElementById(\"0a9a6a32-9a8d-4829-baa7-a8498bb51fc2\")) {                    Plotly.newPlot(                        \"0a9a6a32-9a8d-4829-baa7-a8498bb51fc2\",                        [{\"marker\":{\"opacity\":0.75,\"size\":5},\"mode\":\"markers\",\"name\":\"w1flux\",\"x\":[0.0,4.230432474474017e-05,8.460862057393268e-05,0.0001057607781282137,0.0001269129292560382,0.00014806508680798147,0.0001692172411502031,0.00019036936657220157,0.0001904102869580411,0.00023271459885220602,0.0002750189075343115,0.0003173232162140793,0.06150901042295582,0.06150905134655372,0.06155127385301821,0.061551314776618446,0.061593537283082936,0.061593578187403804,0.061635800713145325,0.06165695288676457,0.06167806415606063,0.06169921633289194,0.061720327602187985,0.06174147976295433,0.061783743164101165,0.06182600659416589,0.11536146665190462,0.11540364826689882,0.11540368917122203,0.11544587078621622,0.11546698206193873,0.11548805241406333,0.11550916368978584,0.11553027494944337,0.11555134530478005,0.11559356783694802,0.11563574946479513,0.11567797201624248,0.17780039962528285,0.17784254038415112,0.1778846811398073,0.17790575149835836,0.1779268218793985,0.1779479331808245,0.1779690035554382,0.1779900739332663,0.17803221470498745,0.17807435544779074,0.17811649620665898,0.23068868997061717,0.23073078987335946,0.2307729306804203,0.23081503058316258,0.23083610099312063,0.23085713050196985,0.23085717140629072,0.230878200899075,0.2308992712961801,0.23092034170613815,0.23096244160566606,0.23100454152447333,0.23100458242879418,0.23346834743661574,0.295728289522903,0.29577038941600675,0.2958124893123226,0.2958335188308103,0.2958335597351312,0.295854589237554,0.29587561875604174,0.2958966891627877,0.2959177186812755,0.29595981980494396,0.29600191973338974,0.2960440196779005,0.3483487858185787,0.34839084482663635,0.3484329447711471,0.3484539742799963,0.4127103297375611,0.41275238859782426,0.4127524295053572,0.4127944883656203,0.41283654742508724,0.4128575768664622,0.41287860750306454,0.41289963695408033,0.4129206663826047,0.41294173674115575,0.41298379559177806,0.4130258544905976,0.41306791336049925,0.4633221987267351,0.4633642578922304,0.4634063170255957,0.463448376175026,0.4634694057577736,0.46349043532445633,0.463511464891139,0.4635324944738843,0.4635535240566319,0.4635955832060622,0.46363764237155747,0.5297534985413527,0.5297955573662715,0.5298376162233202,0.5298796341278554,0.5299006635338884,0.5299216929559887,0.5299427223748745,0.5299637517809075,0.5299847811997933,0.5300268400472036,0.5300688579678038,0.5321925431217437,0.5803453219680409,0.580387380744767,0.5804293986011051,0.5804714573810434,0.5804924867677993,0.5805135161577696,0.5805345046241397,0.5805555340301726,0.5805765634169309,0.5806186279641498,0.5806606459522197,0.647719959225087,0.6477200001486872,0.6477620180532202,0.6478040359577555,0.6478250653477234,0.6478460947537588,0.6478671241790687,0.6478881126775687,0.647909142083604,0.6479511600042019,0.6479512009245878,0.6479932188162701,0.648035236749721,0.6974122011667974,0.6974542191677202,0.6974962780568988,0.6975172666132323,0.6975382960738866,0.6975592846013022,0.6975593255216903,0.6975801504189696,0.697601179866771,0.697643361507471,0.6976853794923288,0.6977273974932515,0.6977274384007845,0.6990721371786254,0.7646808426298104,0.7647228605247048,0.7647648784067487,0.7648068963048575,0.7648279257141025,0.7648487505471242,0.7648697799306681,0.7648909320593044,0.7649117977966445,0.7649538156819005,0.76499583356073,0.8153201049097462,0.8153621228978184,0.8154041408826762,0.8154461179792781,0.815446158899664,0.8154671474399324,0.8154881359962659,0.8155091654280023,0.8155511424892622,0.8155931604612672,0.8156351784782548,0.8817130311085767,0.8817550080766589,0.8817970259651291,0.8818390029460642,0.8818599914381378,0.8818600323456707,0.8818810208313201,0.8819020093266057,0.8819229978186792,0.8819439863203937,0.8819860042120737,0.8820279811930087,0.9323557015657326,0.9323976786655489,0.9324396557942785,0.9324604807044106,0.932481591973709,0.932502580507551,0.9325235690735229,0.9325445576234299,0.9325865347232438,0.9326285118391228,0.9996857452568997,0.9997276404259786,0.9997695355950575,0.9997695765154434,0.9997905240935575,0.9998114716845223,0.9998324192787015,0.9998533668696662,0.9998743144477804,0.9999162096457772,0.9999581048148561,1.0],\"y\":[6.477051675507323,6.442973583045762,6.467841379131546,6.450341818283568,6.4135006476785446,6.443894612420566,6.330608068891323,6.34350246466105,6.387711836874706,6.147323699883208,6.209032449054531,6.301135172285228,6.370212290950223,6.328766012523729,6.4604731426191195,6.365607147877377,6.4300791727083615,6.403369328275199,6.374817434271642,6.407974473320328,6.434684319061263,6.280872562609462,6.1565339567309785,6.164823189198188,6.258767904079846,6.420868880666169,6.442973583045762,6.378501549106217,6.454946965583002,6.3066613395288975,6.193374999091028,6.076404776384446,6.149165751129452,6.333371153523382,6.37205434824909,6.435605348358128,6.407974473320328,6.419026822365021,6.4484997594229805,6.411658589522487,6.322318815578462,6.366528176471949,6.341660407995411,6.4254740265759835,6.354554805530526,6.385869779243633,6.068115558205831,6.311266479209302,6.336134238251771,6.398764183462694,6.103114489144693,6.307582367442481,6.423631968185235,6.472446527218131,6.491788151372732,6.471525497584546,6.434684319061263,6.348107606508356,6.472446527218131,6.400606241359644,6.3453445213686415,6.2781094799125094,6.287319755984079,6.137192419145264,6.273504342323628,6.385869779243633,6.292845922191729,6.3066613395288975,6.489025061994143,6.512050808935045,6.465078290377626,6.463236231249443,6.42455299737615,6.377580520382861,6.317713675231143,6.443894612420566,6.4061324152745,6.195217051817948,6.161139085728289,6.217321688884296,6.099430389967359,6.120613963909638,6.419026822365021,6.426395055784719,6.362844062153938,6.508366689104377,6.442052553679553,6.3610020050554,6.469683438341748,6.435605348358128,6.375738462965554,6.199822183881707,6.13903447004705,6.322318815578462,6.509287719050765,6.431000201961365,6.428237114228834,6.472446527218131,6.488104032216943,6.415342705871075,6.536918620881695,6.46139417215428,6.363765090718352,6.140876521011984,6.426395055784719,6.44757873000543,6.423631968185235,6.465078290377626,6.483498883449039,6.445736671195901,6.3619230335996155,6.443894612420566,6.435605348358128,6.174033448918643,6.108640638418964,6.1666652410232095,6.41442167677026,6.415342705871075,6.418105793227967,6.504682569394389,6.459552113092258,6.4742885865096,6.3508706917416,6.454946965583002,6.418105793227967,6.189690893807334,6.375738462965554,6.3508706917416,6.2265319566434805,6.142718572039836,6.243110441933544,6.323239843680835,5.9474615626171925,6.428237114228834,6.4742885865096,6.387711836874706,6.279951535031893,6.451262847726577,6.357317890980008,6.426395055784719,6.379422577839356,6.478893734879313,6.405211386265456,6.4466577005964,6.42455299737615,6.436526377663716,6.459552113092258,6.512050808935045,6.326002928053402,6.148244725498581,6.339818351371882,6.320476759406566,6.162060111573177,6.340739379678374,6.405211386265456,6.183243710111135,6.180480631600431,6.3582389194836,6.342581436322977,6.429158143464179,6.387711836874706,6.472446527218131,6.450341818283568,6.407053444292796,6.407974473320328,6.163902163308154,6.213637582157215,6.395080067781624,6.431921231223172,6.4300791727083615,6.453104906637941,6.431921231223172,6.339818351371882,6.4484997594229805,6.352712748615469,6.331529097091272,6.23666325270839,6.120613963909638,6.416263734980977,6.349949663320158,6.309424423303436,6.477051675507323,6.4484997594229805,6.427316085002341,6.385869779243633,6.385869779243633,6.410737560458177,6.221005795827366,6.206269369357417,6.465078290377626,6.389553894544183,6.468762408732564,6.329687040702133,6.370212290950223,6.442973583045762,6.469683438341748,6.379422577839356,6.477051675507323,6.433763289773139,6.340739379678374,6.42455299737615,6.3057403116266055,6.295609005452535,6.102193464324837,6.442973583045762,6.290082839035384,6.3453445213686415,6.411658589522487,6.427316085002341],\"type\":\"scatter\"}],                        {\"template\":{\"data\":{\"histogram2dcontour\":[{\"type\":\"histogram2dcontour\",\"colorbar\":{\"outlinewidth\":0,\"ticks\":\"\"},\"colorscale\":[[0.0,\"#0d0887\"],[0.1111111111111111,\"#46039f\"],[0.2222222222222222,\"#7201a8\"],[0.3333333333333333,\"#9c179e\"],[0.4444444444444444,\"#bd3786\"],[0.5555555555555556,\"#d8576b\"],[0.6666666666666666,\"#ed7953\"],[0.7777777777777778,\"#fb9f3a\"],[0.8888888888888888,\"#fdca26\"],[1.0,\"#f0f921\"]]}],\"choropleth\":[{\"type\":\"choropleth\",\"colorbar\":{\"outlinewidth\":0,\"ticks\":\"\"}}],\"histogram2d\":[{\"type\":\"histogram2d\",\"colorbar\":{\"outlinewidth\":0,\"ticks\":\"\"},\"colorscale\":[[0.0,\"#0d0887\"],[0.1111111111111111,\"#46039f\"],[0.2222222222222222,\"#7201a8\"],[0.3333333333333333,\"#9c179e\"],[0.4444444444444444,\"#bd3786\"],[0.5555555555555556,\"#d8576b\"],[0.6666666666666666,\"#ed7953\"],[0.7777777777777778,\"#fb9f3a\"],[0.8888888888888888,\"#fdca26\"],[1.0,\"#f0f921\"]]}],\"heatmap\":[{\"type\":\"heatmap\",\"colorbar\":{\"outlinewidth\":0,\"ticks\":\"\"},\"colorscale\":[[0.0,\"#0d0887\"],[0.1111111111111111,\"#46039f\"],[0.2222222222222222,\"#7201a8\"],[0.3333333333333333,\"#9c179e\"],[0.4444444444444444,\"#bd3786\"],[0.5555555555555556,\"#d8576b\"],[0.6666666666666666,\"#ed7953\"],[0.7777777777777778,\"#fb9f3a\"],[0.8888888888888888,\"#fdca26\"],[1.0,\"#f0f921\"]]}],\"heatmapgl\":[{\"type\":\"heatmapgl\",\"colorbar\":{\"outlinewidth\":0,\"ticks\":\"\"},\"colorscale\":[[0.0,\"#0d0887\"],[0.1111111111111111,\"#46039f\"],[0.2222222222222222,\"#7201a8\"],[0.3333333333333333,\"#9c179e\"],[0.4444444444444444,\"#bd3786\"],[0.5555555555555556,\"#d8576b\"],[0.6666666666666666,\"#ed7953\"],[0.7777777777777778,\"#fb9f3a\"],[0.8888888888888888,\"#fdca26\"],[1.0,\"#f0f921\"]]}],\"contourcarpet\":[{\"type\":\"contourcarpet\",\"colorbar\":{\"outlinewidth\":0,\"ticks\":\"\"}}],\"contour\":[{\"type\":\"contour\",\"colorbar\":{\"outlinewidth\":0,\"ticks\":\"\"},\"colorscale\":[[0.0,\"#0d0887\"],[0.1111111111111111,\"#46039f\"],[0.2222222222222222,\"#7201a8\"],[0.3333333333333333,\"#9c179e\"],[0.4444444444444444,\"#bd3786\"],[0.5555555555555556,\"#d8576b\"],[0.6666666666666666,\"#ed7953\"],[0.7777777777777778,\"#fb9f3a\"],[0.8888888888888888,\"#fdca26\"],[1.0,\"#f0f921\"]]}],\"surface\":[{\"type\":\"surface\",\"colorbar\":{\"outlinewidth\":0,\"ticks\":\"\"},\"colorscale\":[[0.0,\"#0d0887\"],[0.1111111111111111,\"#46039f\"],[0.2222222222222222,\"#7201a8\"],[0.3333333333333333,\"#9c179e\"],[0.4444444444444444,\"#bd3786\"],[0.5555555555555556,\"#d8576b\"],[0.6666666666666666,\"#ed7953\"],[0.7777777777777778,\"#fb9f3a\"],[0.8888888888888888,\"#fdca26\"],[1.0,\"#f0f921\"]]}],\"mesh3d\":[{\"type\":\"mesh3d\",\"colorbar\":{\"outlinewidth\":0,\"ticks\":\"\"}}],\"scatter\":[{\"fillpattern\":{\"fillmode\":\"overlay\",\"size\":10,\"solidity\":0.2},\"type\":\"scatter\"}],\"parcoords\":[{\"type\":\"parcoords\",\"line\":{\"colorbar\":{\"outlinewidth\":0,\"ticks\":\"\"}}}],\"scatterpolargl\":[{\"type\":\"scatterpolargl\",\"marker\":{\"colorbar\":{\"outlinewidth\":0,\"ticks\":\"\"}}}],\"bar\":[{\"error_x\":{\"color\":\"#2a3f5f\"},\"error_y\":{\"color\":\"#2a3f5f\"},\"marker\":{\"line\":{\"color\":\"#E5ECF6\",\"width\":0.5},\"pattern\":{\"fillmode\":\"overlay\",\"size\":10,\"solidity\":0.2}},\"type\":\"bar\"}],\"scattergeo\":[{\"type\":\"scattergeo\",\"marker\":{\"colorbar\":{\"outlinewidth\":0,\"ticks\":\"\"}}}],\"scatterpolar\":[{\"type\":\"scatterpolar\",\"marker\":{\"colorbar\":{\"outlinewidth\":0,\"ticks\":\"\"}}}],\"histogram\":[{\"marker\":{\"pattern\":{\"fillmode\":\"overlay\",\"size\":10,\"solidity\":0.2}},\"type\":\"histogram\"}],\"scattergl\":[{\"type\":\"scattergl\",\"marker\":{\"colorbar\":{\"outlinewidth\":0,\"ticks\":\"\"}}}],\"scatter3d\":[{\"type\":\"scatter3d\",\"line\":{\"colorbar\":{\"outlinewidth\":0,\"ticks\":\"\"}},\"marker\":{\"colorbar\":{\"outlinewidth\":0,\"ticks\":\"\"}}}],\"scattermapbox\":[{\"type\":\"scattermapbox\",\"marker\":{\"colorbar\":{\"outlinewidth\":0,\"ticks\":\"\"}}}],\"scatterternary\":[{\"type\":\"scatterternary\",\"marker\":{\"colorbar\":{\"outlinewidth\":0,\"ticks\":\"\"}}}],\"scattercarpet\":[{\"type\":\"scattercarpet\",\"marker\":{\"colorbar\":{\"outlinewidth\":0,\"ticks\":\"\"}}}],\"carpet\":[{\"aaxis\":{\"endlinecolor\":\"#2a3f5f\",\"gridcolor\":\"white\",\"linecolor\":\"white\",\"minorgridcolor\":\"white\",\"startlinecolor\":\"#2a3f5f\"},\"baxis\":{\"endlinecolor\":\"#2a3f5f\",\"gridcolor\":\"white\",\"linecolor\":\"white\",\"minorgridcolor\":\"white\",\"startlinecolor\":\"#2a3f5f\"},\"type\":\"carpet\"}],\"table\":[{\"cells\":{\"fill\":{\"color\":\"#EBF0F8\"},\"line\":{\"color\":\"white\"}},\"header\":{\"fill\":{\"color\":\"#C8D4E3\"},\"line\":{\"color\":\"white\"}},\"type\":\"table\"}],\"barpolar\":[{\"marker\":{\"line\":{\"color\":\"#E5ECF6\",\"width\":0.5},\"pattern\":{\"fillmode\":\"overlay\",\"size\":10,\"solidity\":0.2}},\"type\":\"barpolar\"}],\"pie\":[{\"automargin\":true,\"type\":\"pie\"}]},\"layout\":{\"autotypenumbers\":\"strict\",\"colorway\":[\"#636efa\",\"#EF553B\",\"#00cc96\",\"#ab63fa\",\"#FFA15A\",\"#19d3f3\",\"#FF6692\",\"#B6E880\",\"#FF97FF\",\"#FECB52\"],\"font\":{\"color\":\"#2a3f5f\"},\"hovermode\":\"closest\",\"hoverlabel\":{\"align\":\"left\"},\"paper_bgcolor\":\"white\",\"plot_bgcolor\":\"#E5ECF6\",\"polar\":{\"bgcolor\":\"#E5ECF6\",\"angularaxis\":{\"gridcolor\":\"white\",\"linecolor\":\"white\",\"ticks\":\"\"},\"radialaxis\":{\"gridcolor\":\"white\",\"linecolor\":\"white\",\"ticks\":\"\"}},\"ternary\":{\"bgcolor\":\"#E5ECF6\",\"aaxis\":{\"gridcolor\":\"white\",\"linecolor\":\"white\",\"ticks\":\"\"},\"baxis\":{\"gridcolor\":\"white\",\"linecolor\":\"white\",\"ticks\":\"\"},\"caxis\":{\"gridcolor\":\"white\",\"linecolor\":\"white\",\"ticks\":\"\"}},\"coloraxis\":{\"colorbar\":{\"outlinewidth\":0,\"ticks\":\"\"}},\"colorscale\":{\"sequential\":[[0.0,\"#0d0887\"],[0.1111111111111111,\"#46039f\"],[0.2222222222222222,\"#7201a8\"],[0.3333333333333333,\"#9c179e\"],[0.4444444444444444,\"#bd3786\"],[0.5555555555555556,\"#d8576b\"],[0.6666666666666666,\"#ed7953\"],[0.7777777777777778,\"#fb9f3a\"],[0.8888888888888888,\"#fdca26\"],[1.0,\"#f0f921\"]],\"sequentialminus\":[[0.0,\"#0d0887\"],[0.1111111111111111,\"#46039f\"],[0.2222222222222222,\"#7201a8\"],[0.3333333333333333,\"#9c179e\"],[0.4444444444444444,\"#bd3786\"],[0.5555555555555556,\"#d8576b\"],[0.6666666666666666,\"#ed7953\"],[0.7777777777777778,\"#fb9f3a\"],[0.8888888888888888,\"#fdca26\"],[1.0,\"#f0f921\"]],\"diverging\":[[0,\"#8e0152\"],[0.1,\"#c51b7d\"],[0.2,\"#de77ae\"],[0.3,\"#f1b6da\"],[0.4,\"#fde0ef\"],[0.5,\"#f7f7f7\"],[0.6,\"#e6f5d0\"],[0.7,\"#b8e186\"],[0.8,\"#7fbc41\"],[0.9,\"#4d9221\"],[1,\"#276419\"]]},\"xaxis\":{\"gridcolor\":\"white\",\"linecolor\":\"white\",\"ticks\":\"\",\"title\":{\"standoff\":15},\"zerolinecolor\":\"white\",\"automargin\":true,\"zerolinewidth\":2},\"yaxis\":{\"gridcolor\":\"white\",\"linecolor\":\"white\",\"ticks\":\"\",\"title\":{\"standoff\":15},\"zerolinecolor\":\"white\",\"automargin\":true,\"zerolinewidth\":2},\"scene\":{\"xaxis\":{\"backgroundcolor\":\"#E5ECF6\",\"gridcolor\":\"white\",\"linecolor\":\"white\",\"showbackground\":true,\"ticks\":\"\",\"zerolinecolor\":\"white\",\"gridwidth\":2},\"yaxis\":{\"backgroundcolor\":\"#E5ECF6\",\"gridcolor\":\"white\",\"linecolor\":\"white\",\"showbackground\":true,\"ticks\":\"\",\"zerolinecolor\":\"white\",\"gridwidth\":2},\"zaxis\":{\"backgroundcolor\":\"#E5ECF6\",\"gridcolor\":\"white\",\"linecolor\":\"white\",\"showbackground\":true,\"ticks\":\"\",\"zerolinecolor\":\"white\",\"gridwidth\":2}},\"shapedefaults\":{\"line\":{\"color\":\"#2a3f5f\"}},\"annotationdefaults\":{\"arrowcolor\":\"#2a3f5f\",\"arrowhead\":0,\"arrowwidth\":1},\"geo\":{\"bgcolor\":\"white\",\"landcolor\":\"#E5ECF6\",\"subunitcolor\":\"white\",\"showland\":true,\"showlakes\":true,\"lakecolor\":\"white\"},\"title\":{\"x\":0.05},\"mapbox\":{\"style\":\"light\"}}},\"font\":{\"family\":\"Times New Roman\",\"size\":18},\"legend\":{\"font\":{\"family\":\"monospace\",\"size\":15},\"bgcolor\":\"rgba(0, 0, 0, 0)\",\"xanchor\":\"left\",\"x\":1.02},\"title\":{\"font\":{\"size\":18}},\"xaxis\":{\"title\":{\"font\":{\"size\":18}},\"linecolor\":\"black\",\"mirror\":true,\"showline\":true,\"zeroline\":false,\"ticks\":\"inside\",\"minor\":{\"ticks\":\"inside\",\"ticklen\":1,\"showgrid\":true,\"gridcolor\":\"rgba(1, 1, 1, .05)\"},\"gridcolor\":\"rgba(0, 0, 0, .15)\",\"zerolinecolor\":\"rgba(0, 0, 0, .15)\",\"showgrid\":true},\"yaxis\":{\"title\":{\"font\":{\"size\":18}},\"linecolor\":\"black\",\"mirror\":true,\"showline\":true,\"zeroline\":false,\"ticks\":\"inside\",\"minor\":{\"ticks\":\"inside\",\"ticklen\":1,\"showgrid\":true,\"gridcolor\":\"rgba(1, 1, 1, .05)\"},\"gridcolor\":\"rgba(0, 0, 0, .15)\",\"zerolinecolor\":\"rgba(0, 0, 0, .15)\",\"showgrid\":true},\"width\":1200,\"height\":780.0,\"plot_bgcolor\":\"rgba(0, 0, 0, 0)\",\"showlegend\":true,\"margin\":{\"t\":75,\"b\":75,\"l\":100,\"r\":100,\"pad\":0}},                        {\"responsive\": true}                    ).then(function(){\n",
       "                            \n",
       "var gd = document.getElementById('0a9a6a32-9a8d-4829-baa7-a8498bb51fc2');\n",
       "var x = new MutationObserver(function (mutations, observer) {{\n",
       "        var display = window.getComputedStyle(gd).display;\n",
       "        if (!display || display === 'none') {{\n",
       "            console.log([gd, 'removed!']);\n",
       "            Plotly.purge(gd);\n",
       "            observer.disconnect();\n",
       "        }}\n",
       "}});\n",
       "\n",
       "// Listen for the removal of the full notebook cells\n",
       "var notebookContainer = gd.closest('#notebook-container');\n",
       "if (notebookContainer) {{\n",
       "    x.observe(notebookContainer, {childList: true});\n",
       "}}\n",
       "\n",
       "// Listen for the clearing of the current output cell\n",
       "var outputEl = gd.closest('.output');\n",
       "if (outputEl) {{\n",
       "    x.observe(outputEl, {childList: true});\n",
       "}}\n",
       "\n",
       "                        })                };                            </script>        </div>\n",
       "</body>\n",
       "</html>"
      ]
     },
     "metadata": {},
     "output_type": "display_data"
    },
    {
     "data": {
      "text/html": [
       "<html>\n",
       "<head><meta charset=\"utf-8\" /></head>\n",
       "<body>\n",
       "    <div>            <script src=\"https://cdnjs.cloudflare.com/ajax/libs/mathjax/2.7.5/MathJax.js?config=TeX-AMS-MML_SVG\"></script><script type=\"text/javascript\">if (window.MathJax && window.MathJax.Hub && window.MathJax.Hub.Config) {window.MathJax.Hub.Config({SVG: {font: \"STIX-Web\"}});}</script>                <script type=\"text/javascript\">window.PlotlyConfig = {MathJaxConfig: 'local'};</script>\n",
       "        <script charset=\"utf-8\" src=\"https://cdn.plot.ly/plotly-2.24.1.min.js\"></script>                <div id=\"7127c113-a0bd-4424-94c0-74bad28784f9\" class=\"plotly-graph-div\" style=\"height:780.0px; width:1200px;\"></div>            <script type=\"text/javascript\">                                    window.PLOTLYENV=window.PLOTLYENV || {};                                    if (document.getElementById(\"7127c113-a0bd-4424-94c0-74bad28784f9\")) {                    Plotly.newPlot(                        \"7127c113-a0bd-4424-94c0-74bad28784f9\",                        [{\"marker\":{\"opacity\":0.75,\"size\":5},\"mode\":\"markers\",\"name\":\"w1\",\"x\":[0.0,4.230432474474017e-05,8.460862057393268e-05,0.0001057607781282137,0.0001269129292560382,0.00014806508680798147,0.0001692172411502031,0.00019036936657220157,0.0001904102869580411,0.00023271459885220602,0.0002750189075343115,0.0003173232162140793,0.06150901042295582,0.06150905134655372,0.06155127385301821,0.061551314776618446,0.061593537283082936,0.061593578187403804,0.061635800713145325,0.06165695288676457,0.06167806415606063,0.06169921633289194,0.061720327602187985,0.06174147976295433,0.061783743164101165,0.06182600659416589,0.11536146665190462,0.11540364826689882,0.11540368917122203,0.11544587078621622,0.11546698206193873,0.11548805241406333,0.11550916368978584,0.11553027494944337,0.11555134530478005,0.11559356783694802,0.11563574946479513,0.11567797201624248,0.17780039962528285,0.17784254038415112,0.1778846811398073,0.17790575149835836,0.1779268218793985,0.1779479331808245,0.1779690035554382,0.1779900739332663,0.17803221470498745,0.17807435544779074,0.17811649620665898,0.23068868997061717,0.23073078987335946,0.2307729306804203,0.23081503058316258,0.23083610099312063,0.23085713050196985,0.23085717140629072,0.230878200899075,0.2308992712961801,0.23092034170613815,0.23096244160566606,0.23100454152447333,0.23100458242879418,0.23346834743661574,0.295728289522903,0.29577038941600675,0.2958124893123226,0.2958335188308103,0.2958335597351312,0.295854589237554,0.29587561875604174,0.2958966891627877,0.2959177186812755,0.29595981980494396,0.29600191973338974,0.2960440196779005,0.3483487858185787,0.34839084482663635,0.3484329447711471,0.3484539742799963,0.4127103297375611,0.41275238859782426,0.4127524295053572,0.4127944883656203,0.41283654742508724,0.4128575768664622,0.41287860750306454,0.41289963695408033,0.4129206663826047,0.41294173674115575,0.41298379559177806,0.4130258544905976,0.41306791336049925,0.4633221987267351,0.4633642578922304,0.4634063170255957,0.463448376175026,0.4634694057577736,0.46349043532445633,0.463511464891139,0.4635324944738843,0.4635535240566319,0.4635955832060622,0.46363764237155747,0.5297534985413527,0.5297955573662715,0.5298376162233202,0.5298796341278554,0.5299006635338884,0.5299216929559887,0.5299427223748745,0.5299637517809075,0.5299847811997933,0.5300268400472036,0.5300688579678038,0.5321925431217437,0.5803453219680409,0.580387380744767,0.5804293986011051,0.5804714573810434,0.5804924867677993,0.5805135161577696,0.5805345046241397,0.5805555340301726,0.5805765634169309,0.5806186279641498,0.5806606459522197,0.647719959225087,0.6477200001486872,0.6477620180532202,0.6478040359577555,0.6478250653477234,0.6478460947537588,0.6478671241790687,0.6478881126775687,0.647909142083604,0.6479511600042019,0.6479512009245878,0.6479932188162701,0.648035236749721,0.6974122011667974,0.6974542191677202,0.6974962780568988,0.6975172666132323,0.6975382960738866,0.6975592846013022,0.6975593255216903,0.6975801504189696,0.697601179866771,0.697643361507471,0.6976853794923288,0.6977273974932515,0.6977274384007845,0.6990721371786254,0.7646808426298104,0.7647228605247048,0.7647648784067487,0.7648068963048575,0.7648279257141025,0.7648487505471242,0.7648697799306681,0.7648909320593044,0.7649117977966445,0.7649538156819005,0.76499583356073,0.8153201049097462,0.8153621228978184,0.8154041408826762,0.8154461179792781,0.815446158899664,0.8154671474399324,0.8154881359962659,0.8155091654280023,0.8155511424892622,0.8155931604612672,0.8156351784782548,0.8817130311085767,0.8817550080766589,0.8817970259651291,0.8818390029460642,0.8818599914381378,0.8818600323456707,0.8818810208313201,0.8819020093266057,0.8819229978186792,0.8819439863203937,0.8819860042120737,0.8820279811930087,0.9323557015657326,0.9323976786655489,0.9324396557942785,0.9324604807044106,0.932481591973709,0.932502580507551,0.9325235690735229,0.9325445576234299,0.9325865347232438,0.9326285118391228,0.9996857452568997,0.9997276404259786,0.9997695355950575,0.9997695765154434,0.9997905240935575,0.9998114716845223,0.9998324192787015,0.9998533668696662,0.9998743144477804,0.9999162096457772,0.9999581048148561,1.0],\"y\":[-1.060570827003086,-0.7529185573198836,-0.9774215649265464,-0.8194379669811167,-0.48684091867495083,-0.7612334835275404,0.2615024400139205,0.14509347310676057,-0.2540229848606384,1.9161727553370929,1.3590726994242714,0.5275800786588531,-0.09603938691520873,0.27813229242922693,-0.9109021552653132,-0.05446475587693892,-0.6365095904127236,-0.39537673039075427,-0.13761401795347852,-0.4369513614290241,-0.6780842214509935,0.7105084552272463,1.8330234932605531,1.758189157391663,0.9100666842109457,-0.553360328336184,-0.7529185573198836,-0.17087372278409144,-0.8610125980193865,0.47769052141292645,1.5004264449543874,2.5564220733264613,1.8995429029217863,0.2365576613909571,-0.11266923933051518,-0.6863991476586503,-0.4369513614290241,-0.5367304759208775,-0.8028081145658102,-0.4702110662596444,0.3363367758828106,-0.06277968208458845,0.1617233255220744,-0.5949349593744538,0.04531435861491452,-0.2373931324453246,2.631256409195351,0.43611589037465665,0.21161288276799375,-0.35380209935248447,2.3152892133044918,0.4693755952052769,-0.5783051069591474,-1.0189961959648162,-1.1936096463255523,-1.0106812697571592,-0.6780842214509935,0.10351884206849078,-1.0189961959648162,-0.3704319517677909,0.12846362069145414,0.7354532338502096,0.6523039717736626,2.0076369436212893,0.7770278648884794,-0.2373931324453246,0.6024144145277432,0.47769052141292645,-1.168664867702589,-1.3765380228939454,-0.952476786303583,-0.9358469338882766,-0.5866200331668042,-0.1625587965764419,0.3779114069210804,-0.7612334835275404,-0.4203215090137177,1.4837965925390808,1.7914488622222833,1.2842383635553813,2.348548918135112,2.157305615359062,-0.5367304759208775,-0.6032498855821107,-0.029519977253975562,-1.3432783180633252,-0.7446036311122266,-0.01289012483866173,-0.9940514173418528,-0.6863991476586503,-0.14592894416112806,1.4422219615008112,1.991007091205983,0.3363367758828106,-1.351593244270982,-0.6448245166203805,-0.6198797379974171,-1.0189961959648162,-1.1603499414949394,-0.5034707710902573,-1.6010410305006082,-0.9192170814729628,-0.03783490346162509,1.9743772387906764,-0.6032498855821107,-0.7944931883581533,-0.5783051069591474,-0.952476786303583,-1.1187753104566622,-0.7778633359428468,-0.021205051046318646,-0.7612334835275404,-0.6863991476586503,1.6750398953151235,2.2653996560585723,1.7415593049763567,-0.4951558448826077,-0.5034707710902573,-0.5284155497132207,-1.3100186132327123,-0.9025872290576563,-1.0356260483801227,0.07857406344552742,-0.8610125980193865,-0.5284155497132207,1.5336861497850076,-0.14592894416112806,0.07857406344552742,1.2010891014788418,1.9577473863753625,1.0514204297410616,0.32802184967515363,3.7205117423980454,-0.6198797379974171,-1.0356260483801227,-0.2540229848606384,0.7188233814348958,-0.8277528931887735,0.020369579991951162,-0.6032498855821107,-0.17918864899174836,-1.0772006794183924,-0.41200658280606073,-0.7861782621504964,-0.5866200331668042,-0.6947140738663072,-0.9025872290576563,-1.3765380228939454,0.3030770710521903,1.9078578291294432,0.17835317793738087,0.352966628298117,1.7831339360146266,0.17003825172972395,-0.41200658280606073,1.5918906332385838,1.6168354118615471,0.012054653784294246,0.1534083993144175,-0.6281946642050741,-0.2540229848606384,-1.0189961959648162,-0.8194379669811167,-0.42863643522137457,-0.4369513614290241,1.76650408359932,1.3174980683859943,-0.3205423945218716,-0.65313944282803,-0.6365095904127236,-0.84438274560408,-0.65313944282803,0.17835317793738087,-0.8028081145658102,0.06194421103022097,0.25318751380627097,1.1096249131946452,2.157305615359062,-0.5117856972979142,0.08688898965318433,0.45274574278996305,-1.060570827003086,-0.8028081145658102,-0.6115648117897603,-0.2373931324453246,-0.2373931324453246,-0.4618961400519875,1.250978658724761,1.3840174780472274,-0.952476786303583,-0.27065283727594486,-0.9857364911341959,0.26981736622157737,-0.09603938691520873,-0.7529185573198836,-0.9940514173418528,-0.17918864899174836,-1.060570827003086,-0.6697692952433438,0.17003825172972395,-0.5866200331668042,0.48600544762058334,0.5774696359047798,2.3236041395121485,-0.7529185573198836,0.6273591931507067,0.12846362069145414,-0.4702110662596444,-0.6115648117897603],\"type\":\"scatter\"}],                        {\"template\":{\"data\":{\"histogram2dcontour\":[{\"type\":\"histogram2dcontour\",\"colorbar\":{\"outlinewidth\":0,\"ticks\":\"\"},\"colorscale\":[[0.0,\"#0d0887\"],[0.1111111111111111,\"#46039f\"],[0.2222222222222222,\"#7201a8\"],[0.3333333333333333,\"#9c179e\"],[0.4444444444444444,\"#bd3786\"],[0.5555555555555556,\"#d8576b\"],[0.6666666666666666,\"#ed7953\"],[0.7777777777777778,\"#fb9f3a\"],[0.8888888888888888,\"#fdca26\"],[1.0,\"#f0f921\"]]}],\"choropleth\":[{\"type\":\"choropleth\",\"colorbar\":{\"outlinewidth\":0,\"ticks\":\"\"}}],\"histogram2d\":[{\"type\":\"histogram2d\",\"colorbar\":{\"outlinewidth\":0,\"ticks\":\"\"},\"colorscale\":[[0.0,\"#0d0887\"],[0.1111111111111111,\"#46039f\"],[0.2222222222222222,\"#7201a8\"],[0.3333333333333333,\"#9c179e\"],[0.4444444444444444,\"#bd3786\"],[0.5555555555555556,\"#d8576b\"],[0.6666666666666666,\"#ed7953\"],[0.7777777777777778,\"#fb9f3a\"],[0.8888888888888888,\"#fdca26\"],[1.0,\"#f0f921\"]]}],\"heatmap\":[{\"type\":\"heatmap\",\"colorbar\":{\"outlinewidth\":0,\"ticks\":\"\"},\"colorscale\":[[0.0,\"#0d0887\"],[0.1111111111111111,\"#46039f\"],[0.2222222222222222,\"#7201a8\"],[0.3333333333333333,\"#9c179e\"],[0.4444444444444444,\"#bd3786\"],[0.5555555555555556,\"#d8576b\"],[0.6666666666666666,\"#ed7953\"],[0.7777777777777778,\"#fb9f3a\"],[0.8888888888888888,\"#fdca26\"],[1.0,\"#f0f921\"]]}],\"heatmapgl\":[{\"type\":\"heatmapgl\",\"colorbar\":{\"outlinewidth\":0,\"ticks\":\"\"},\"colorscale\":[[0.0,\"#0d0887\"],[0.1111111111111111,\"#46039f\"],[0.2222222222222222,\"#7201a8\"],[0.3333333333333333,\"#9c179e\"],[0.4444444444444444,\"#bd3786\"],[0.5555555555555556,\"#d8576b\"],[0.6666666666666666,\"#ed7953\"],[0.7777777777777778,\"#fb9f3a\"],[0.8888888888888888,\"#fdca26\"],[1.0,\"#f0f921\"]]}],\"contourcarpet\":[{\"type\":\"contourcarpet\",\"colorbar\":{\"outlinewidth\":0,\"ticks\":\"\"}}],\"contour\":[{\"type\":\"contour\",\"colorbar\":{\"outlinewidth\":0,\"ticks\":\"\"},\"colorscale\":[[0.0,\"#0d0887\"],[0.1111111111111111,\"#46039f\"],[0.2222222222222222,\"#7201a8\"],[0.3333333333333333,\"#9c179e\"],[0.4444444444444444,\"#bd3786\"],[0.5555555555555556,\"#d8576b\"],[0.6666666666666666,\"#ed7953\"],[0.7777777777777778,\"#fb9f3a\"],[0.8888888888888888,\"#fdca26\"],[1.0,\"#f0f921\"]]}],\"surface\":[{\"type\":\"surface\",\"colorbar\":{\"outlinewidth\":0,\"ticks\":\"\"},\"colorscale\":[[0.0,\"#0d0887\"],[0.1111111111111111,\"#46039f\"],[0.2222222222222222,\"#7201a8\"],[0.3333333333333333,\"#9c179e\"],[0.4444444444444444,\"#bd3786\"],[0.5555555555555556,\"#d8576b\"],[0.6666666666666666,\"#ed7953\"],[0.7777777777777778,\"#fb9f3a\"],[0.8888888888888888,\"#fdca26\"],[1.0,\"#f0f921\"]]}],\"mesh3d\":[{\"type\":\"mesh3d\",\"colorbar\":{\"outlinewidth\":0,\"ticks\":\"\"}}],\"scatter\":[{\"fillpattern\":{\"fillmode\":\"overlay\",\"size\":10,\"solidity\":0.2},\"type\":\"scatter\"}],\"parcoords\":[{\"type\":\"parcoords\",\"line\":{\"colorbar\":{\"outlinewidth\":0,\"ticks\":\"\"}}}],\"scatterpolargl\":[{\"type\":\"scatterpolargl\",\"marker\":{\"colorbar\":{\"outlinewidth\":0,\"ticks\":\"\"}}}],\"bar\":[{\"error_x\":{\"color\":\"#2a3f5f\"},\"error_y\":{\"color\":\"#2a3f5f\"},\"marker\":{\"line\":{\"color\":\"#E5ECF6\",\"width\":0.5},\"pattern\":{\"fillmode\":\"overlay\",\"size\":10,\"solidity\":0.2}},\"type\":\"bar\"}],\"scattergeo\":[{\"type\":\"scattergeo\",\"marker\":{\"colorbar\":{\"outlinewidth\":0,\"ticks\":\"\"}}}],\"scatterpolar\":[{\"type\":\"scatterpolar\",\"marker\":{\"colorbar\":{\"outlinewidth\":0,\"ticks\":\"\"}}}],\"histogram\":[{\"marker\":{\"pattern\":{\"fillmode\":\"overlay\",\"size\":10,\"solidity\":0.2}},\"type\":\"histogram\"}],\"scattergl\":[{\"type\":\"scattergl\",\"marker\":{\"colorbar\":{\"outlinewidth\":0,\"ticks\":\"\"}}}],\"scatter3d\":[{\"type\":\"scatter3d\",\"line\":{\"colorbar\":{\"outlinewidth\":0,\"ticks\":\"\"}},\"marker\":{\"colorbar\":{\"outlinewidth\":0,\"ticks\":\"\"}}}],\"scattermapbox\":[{\"type\":\"scattermapbox\",\"marker\":{\"colorbar\":{\"outlinewidth\":0,\"ticks\":\"\"}}}],\"scatterternary\":[{\"type\":\"scatterternary\",\"marker\":{\"colorbar\":{\"outlinewidth\":0,\"ticks\":\"\"}}}],\"scattercarpet\":[{\"type\":\"scattercarpet\",\"marker\":{\"colorbar\":{\"outlinewidth\":0,\"ticks\":\"\"}}}],\"carpet\":[{\"aaxis\":{\"endlinecolor\":\"#2a3f5f\",\"gridcolor\":\"white\",\"linecolor\":\"white\",\"minorgridcolor\":\"white\",\"startlinecolor\":\"#2a3f5f\"},\"baxis\":{\"endlinecolor\":\"#2a3f5f\",\"gridcolor\":\"white\",\"linecolor\":\"white\",\"minorgridcolor\":\"white\",\"startlinecolor\":\"#2a3f5f\"},\"type\":\"carpet\"}],\"table\":[{\"cells\":{\"fill\":{\"color\":\"#EBF0F8\"},\"line\":{\"color\":\"white\"}},\"header\":{\"fill\":{\"color\":\"#C8D4E3\"},\"line\":{\"color\":\"white\"}},\"type\":\"table\"}],\"barpolar\":[{\"marker\":{\"line\":{\"color\":\"#E5ECF6\",\"width\":0.5},\"pattern\":{\"fillmode\":\"overlay\",\"size\":10,\"solidity\":0.2}},\"type\":\"barpolar\"}],\"pie\":[{\"automargin\":true,\"type\":\"pie\"}]},\"layout\":{\"autotypenumbers\":\"strict\",\"colorway\":[\"#636efa\",\"#EF553B\",\"#00cc96\",\"#ab63fa\",\"#FFA15A\",\"#19d3f3\",\"#FF6692\",\"#B6E880\",\"#FF97FF\",\"#FECB52\"],\"font\":{\"color\":\"#2a3f5f\"},\"hovermode\":\"closest\",\"hoverlabel\":{\"align\":\"left\"},\"paper_bgcolor\":\"white\",\"plot_bgcolor\":\"#E5ECF6\",\"polar\":{\"bgcolor\":\"#E5ECF6\",\"angularaxis\":{\"gridcolor\":\"white\",\"linecolor\":\"white\",\"ticks\":\"\"},\"radialaxis\":{\"gridcolor\":\"white\",\"linecolor\":\"white\",\"ticks\":\"\"}},\"ternary\":{\"bgcolor\":\"#E5ECF6\",\"aaxis\":{\"gridcolor\":\"white\",\"linecolor\":\"white\",\"ticks\":\"\"},\"baxis\":{\"gridcolor\":\"white\",\"linecolor\":\"white\",\"ticks\":\"\"},\"caxis\":{\"gridcolor\":\"white\",\"linecolor\":\"white\",\"ticks\":\"\"}},\"coloraxis\":{\"colorbar\":{\"outlinewidth\":0,\"ticks\":\"\"}},\"colorscale\":{\"sequential\":[[0.0,\"#0d0887\"],[0.1111111111111111,\"#46039f\"],[0.2222222222222222,\"#7201a8\"],[0.3333333333333333,\"#9c179e\"],[0.4444444444444444,\"#bd3786\"],[0.5555555555555556,\"#d8576b\"],[0.6666666666666666,\"#ed7953\"],[0.7777777777777778,\"#fb9f3a\"],[0.8888888888888888,\"#fdca26\"],[1.0,\"#f0f921\"]],\"sequentialminus\":[[0.0,\"#0d0887\"],[0.1111111111111111,\"#46039f\"],[0.2222222222222222,\"#7201a8\"],[0.3333333333333333,\"#9c179e\"],[0.4444444444444444,\"#bd3786\"],[0.5555555555555556,\"#d8576b\"],[0.6666666666666666,\"#ed7953\"],[0.7777777777777778,\"#fb9f3a\"],[0.8888888888888888,\"#fdca26\"],[1.0,\"#f0f921\"]],\"diverging\":[[0,\"#8e0152\"],[0.1,\"#c51b7d\"],[0.2,\"#de77ae\"],[0.3,\"#f1b6da\"],[0.4,\"#fde0ef\"],[0.5,\"#f7f7f7\"],[0.6,\"#e6f5d0\"],[0.7,\"#b8e186\"],[0.8,\"#7fbc41\"],[0.9,\"#4d9221\"],[1,\"#276419\"]]},\"xaxis\":{\"gridcolor\":\"white\",\"linecolor\":\"white\",\"ticks\":\"\",\"title\":{\"standoff\":15},\"zerolinecolor\":\"white\",\"automargin\":true,\"zerolinewidth\":2},\"yaxis\":{\"gridcolor\":\"white\",\"linecolor\":\"white\",\"ticks\":\"\",\"title\":{\"standoff\":15},\"zerolinecolor\":\"white\",\"automargin\":true,\"zerolinewidth\":2},\"scene\":{\"xaxis\":{\"backgroundcolor\":\"#E5ECF6\",\"gridcolor\":\"white\",\"linecolor\":\"white\",\"showbackground\":true,\"ticks\":\"\",\"zerolinecolor\":\"white\",\"gridwidth\":2},\"yaxis\":{\"backgroundcolor\":\"#E5ECF6\",\"gridcolor\":\"white\",\"linecolor\":\"white\",\"showbackground\":true,\"ticks\":\"\",\"zerolinecolor\":\"white\",\"gridwidth\":2},\"zaxis\":{\"backgroundcolor\":\"#E5ECF6\",\"gridcolor\":\"white\",\"linecolor\":\"white\",\"showbackground\":true,\"ticks\":\"\",\"zerolinecolor\":\"white\",\"gridwidth\":2}},\"shapedefaults\":{\"line\":{\"color\":\"#2a3f5f\"}},\"annotationdefaults\":{\"arrowcolor\":\"#2a3f5f\",\"arrowhead\":0,\"arrowwidth\":1},\"geo\":{\"bgcolor\":\"white\",\"landcolor\":\"#E5ECF6\",\"subunitcolor\":\"white\",\"showland\":true,\"showlakes\":true,\"lakecolor\":\"white\"},\"title\":{\"x\":0.05},\"mapbox\":{\"style\":\"light\"}}},\"font\":{\"family\":\"Times New Roman\",\"size\":18},\"legend\":{\"font\":{\"family\":\"monospace\",\"size\":15},\"bgcolor\":\"rgba(0, 0, 0, 0)\",\"xanchor\":\"left\",\"x\":1.02},\"title\":{\"font\":{\"size\":18}},\"xaxis\":{\"title\":{\"font\":{\"size\":18}},\"linecolor\":\"black\",\"mirror\":true,\"showline\":true,\"zeroline\":false,\"ticks\":\"inside\",\"minor\":{\"ticks\":\"inside\",\"ticklen\":1,\"showgrid\":true,\"gridcolor\":\"rgba(1, 1, 1, .05)\"},\"gridcolor\":\"rgba(0, 0, 0, .15)\",\"zerolinecolor\":\"rgba(0, 0, 0, .15)\",\"showgrid\":true},\"yaxis\":{\"title\":{\"font\":{\"size\":18}},\"linecolor\":\"black\",\"mirror\":true,\"showline\":true,\"zeroline\":false,\"ticks\":\"inside\",\"minor\":{\"ticks\":\"inside\",\"ticklen\":1,\"showgrid\":true,\"gridcolor\":\"rgba(1, 1, 1, .05)\"},\"gridcolor\":\"rgba(0, 0, 0, .15)\",\"zerolinecolor\":\"rgba(0, 0, 0, .15)\",\"showgrid\":true},\"width\":1200,\"height\":780.0,\"plot_bgcolor\":\"rgba(0, 0, 0, 0)\",\"showlegend\":true,\"margin\":{\"t\":75,\"b\":75,\"l\":100,\"r\":100,\"pad\":0}},                        {\"responsive\": true}                    ).then(function(){\n",
       "                            \n",
       "var gd = document.getElementById('7127c113-a0bd-4424-94c0-74bad28784f9');\n",
       "var x = new MutationObserver(function (mutations, observer) {{\n",
       "        var display = window.getComputedStyle(gd).display;\n",
       "        if (!display || display === 'none') {{\n",
       "            console.log([gd, 'removed!']);\n",
       "            Plotly.purge(gd);\n",
       "            observer.disconnect();\n",
       "        }}\n",
       "}});\n",
       "\n",
       "// Listen for the removal of the full notebook cells\n",
       "var notebookContainer = gd.closest('#notebook-container');\n",
       "if (notebookContainer) {{\n",
       "    x.observe(notebookContainer, {childList: true});\n",
       "}}\n",
       "\n",
       "// Listen for the clearing of the current output cell\n",
       "var outputEl = gd.closest('.output');\n",
       "if (outputEl) {{\n",
       "    x.observe(outputEl, {childList: true});\n",
       "}}\n",
       "\n",
       "                        })                };                            </script>        </div>\n",
       "</body>\n",
       "</html>"
      ]
     },
     "metadata": {},
     "output_type": "display_data"
    }
   ],
   "source": [
    "ex = buckets['transit'][7] # One Example\n",
    "\n",
    "l = np.argmin([len(x[\"raw\"][\"w1\"]) for x in buckets['null']])\n",
    "print(l)\n",
    "\n",
    "def get_trace(data_dict, key):\n",
    "\n",
    "  x_data = data_dict[\"day\"]\n",
    "  y_data = data_dict[key]\n",
    "\n",
    "  sort_idxs = np.argsort(x_data)\n",
    "\n",
    "  x_data = x_data[sort_idxs]\n",
    "  y_data = y_data[sort_idxs]\n",
    "\n",
    "\n",
    "  return go.Scatter(\n",
    "    x=x_data,\n",
    "    y=y_data,\n",
    "    mode='markers',\n",
    "    marker=dict(size=5, opacity=.75),\n",
    "    name=key,\n",
    "  )\n",
    "\n",
    "data_dict = ex[\"norm\"]\n",
    "\n",
    "\n",
    "fig = go.Figure()\n",
    "\n",
    "fig.add_trace(get_trace(data_dict, \"w1flux\"))\n",
    "\n",
    "\n",
    "\n",
    "update_layout(fig, legend_out=True)\n",
    "\n",
    "fig.layout.width = 1200\n",
    "fig.layout.height = 0.65 * fig.layout.width\n",
    "\n",
    "\n",
    "fig.show()\n",
    "\n",
    "\n",
    "fig = go.Figure()\n",
    "\n",
    "fig.add_trace(get_trace(data_dict, \"w1\"))\n",
    "\n",
    "\n",
    "update_layout(fig, legend_out=True)\n",
    "\n",
    "fig.layout.width = 1200\n",
    "fig.layout.height = 0.65 * fig.layout.width\n",
    "\n",
    "\n",
    "fig.show()"
   ]
  },
  {
   "cell_type": "code",
   "execution_count": null,
   "metadata": {
    "id": "O1YXGmAjlmfs"
   },
   "outputs": [],
   "source": [
    "def plot_from_datadict(data_dict, use_norm=False):\n",
    "  key = \"norm\" if use_norm else \"raw\"\n",
    "\n",
    "  fig = go.Figure()\n",
    "\n",
    "  fig.add_trace(get_trace(data_dict[key], \"w1\"))\n",
    "  fig.add_trace(get_trace(data_dict[key], \"w2\"))\n",
    "  fig.add_trace(get_trace(data_dict[key], \"w1sig\"))\n",
    "  fig.add_trace(get_trace(data_dict[key], \"w2sig\"))\n",
    "\n",
    "\n",
    "  update_layout(fig, legend_out=True)\n",
    "\n",
    "  fig.layout.width = 800\n",
    "  fig.layout.height = 0.65 * fig.layout.width\n",
    "\n",
    "\n",
    "  return fig\n",
    "\n",
    "def plot_from_tensor(data):\n",
    "  fig = go.Figure()\n",
    "\n",
    "  w1 = data[:, 0].numpy()\n",
    "  std = data[:, 1].numpy()\n",
    "\n",
    "\n",
    "  day = data[:, -1].numpy()\n",
    "\n",
    "\n",
    "  fig.add_trace(go.Scatter(x=day, y=w1, marker=dict(size=5, opacity=0.7), name=\"w1mpro z-scored\", mode='markers'))\n",
    "  fig.add_trace(go.Scatter(x=day, y=std, marker=dict(size=5, opacity=0.7), name=\"w2mpro z-scored\", mode='markers'))\n",
    "\n",
    "  update_layout(fig, legend_out=True)\n",
    "\n",
    "  fig.layout.width = 800\n",
    "  fig.layout.height = 0.65 * fig.layout.width\n",
    "\n",
    "\n",
    "  return fig\n",
    "\n",
    "# Show all novae\n",
    "\n"
   ]
  },
  {
   "cell_type": "code",
   "execution_count": null,
   "metadata": {
    "id": "psRJbQsJRF81"
   },
   "outputs": [],
   "source": [
    "d, l = list(train)[500]\n",
    "plot_from_tensor(d).show()\n",
    "print(l)"
   ]
  },
  {
   "cell_type": "code",
   "execution_count": null,
   "metadata": {},
   "outputs": [],
   "source": [
    "$$x$$"
   ]
  }
 ],
 "metadata": {
  "colab": {
   "collapsed_sections": [
    "fM8QWxxDYLq4",
    "ejR6LDG7LcsD"
   ],
   "provenance": []
  },
  "kernelspec": {
   "display_name": "Python 3 (ipykernel)",
   "language": "python",
   "name": "python3"
  },
  "language_info": {
   "codemirror_mode": {
    "name": "ipython",
    "version": 3
   },
   "file_extension": ".py",
   "mimetype": "text/x-python",
   "name": "python",
   "nbconvert_exporter": "python",
   "pygments_lexer": "ipython3",
   "version": "3.9.7"
  }
 },
 "nbformat": 4,
 "nbformat_minor": 4
}
