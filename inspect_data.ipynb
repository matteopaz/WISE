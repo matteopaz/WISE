{
 "cells": [
  {
   "cell_type": "code",
   "execution_count": 34,
   "metadata": {},
   "outputs": [],
   "source": [
    "import os\n",
    "import sys\n",
    "import numpy as np\n",
    "import torch\n",
    "import plotly.graph_objects as go\n",
    "import tqdm\n",
    "import pickle\n",
    "import kaleido\n",
    "import astropy.units as u\n",
    "from astroquery.ipac.irsa import Irsa\n",
    "ROOT = os.path.join(\"./\")\n",
    "sys.path.append(ROOT + \"lib\")\n",
    "from helpers import get_coordinates\n",
    "from lightsource import LightSource\n",
    "from plotly_style import update_layout\n",
    "\n",
    "buckets = pickle.load(open(ROOT + \"cached_data/raw_classes.pkl\", \"rb\"))"
   ]
  },
  {
   "cell_type": "code",
   "execution_count": 2,
   "metadata": {},
   "outputs": [],
   "source": [
    "def get_trace(lightsource, key):\n",
    "\n",
    "  x_data = lightsource[\"norm\"][\"day\"]\n",
    "  y_data = lightsource[\"norm\"][key]\n",
    "\n",
    "  sort_idxs = np.argsort(x_data)\n",
    "\n",
    "  x_data = x_data[sort_idxs]\n",
    "  y_data = y_data[sort_idxs]\n",
    "\n",
    "\n",
    "  return go.Scatter(\n",
    "    x=x_data,\n",
    "    y=y_data,\n",
    "    mode='markers',\n",
    "    marker=dict(size=5, opacity=.75),\n",
    "    name=key,\n",
    "  )\n",
    "\n",
    "def plot_from_lightsource(lightsource, ys=[\"w1\"]):\n",
    "\n",
    "  fig = go.Figure()\n",
    "\n",
    "  for y in ys:\n",
    "    fig.add_trace(get_trace(lightsource, y))\n",
    "\n",
    "  update_layout(fig, legend_out=True)\n",
    "\n",
    "  fig.layout.width = 800\n",
    "  fig.layout.height = 0.65 * fig.layout.width\n",
    "\n",
    "  return fig\n",
    "\n",
    "def plot_from_tensor(data):\n",
    "  fig = go.Figure()\n",
    "\n",
    "  w1 = data[:, 0].numpy()\n",
    "  std = data[:, 1].numpy()\n",
    "\n",
    "\n",
    "  day = data[:, -1].numpy()\n",
    "\n",
    "\n",
    "  fig.add_trace(go.Scatter(x=day, y=w1, marker=dict(size=5, opacity=0.7), name=\"w1mpro z-scored\", mode='markers'))\n",
    "  fig.add_trace(go.Scatter(x=day, y=std, marker=dict(size=5, opacity=0.7), name=\"w2mpro z-scored\", mode='markers'))\n",
    "\n",
    "  update_layout(fig, legend_out=True)\n",
    "\n",
    "  fig.layout.width = 800\n",
    "  fig.layout.height = 0.65 * fig.layout.width\n",
    "\n",
    "\n",
    "  return fig"
   ]
  },
  {
   "cell_type": "code",
   "execution_count": null,
   "metadata": {},
   "outputs": [],
   "source": [
    "# ----------------------- Begin Work on Dataset ----------------------- # \n",
    "ex = buckets[\"nova\"][\"V569 Vul\"]\n",
    "flux = ex[\"raw\"][\"w1flux\"]\n",
    "\n",
    "ADJ = 0\n",
    "DIV = 0.001\n",
    "norm = np.arcsinh((flux - ADJ) /DIV)\n",
    "tr1 = go.Scatter(\n",
    "    x=ex[\"norm\"][\"day\"],\n",
    "    y=norm,\n",
    "    marker=dict(size=5, opacity=0.7), name=\"normalized flux\", mode='markers'\n",
    ")\n",
    "\n",
    "tr2 = go.Scatter(\n",
    "    x=ex[\"norm\"][\"day\"],\n",
    "    y=flux,\n",
    "    marker=dict(size=5, opacity=0.7), name=\"raw flux\", mode='markers'\n",
    ")\n",
    "\n",
    "fig = plot_from_lightsource(ex, [\"w1\"])\n",
    "fig.add_trace(tr1)\n",
    "fig.add_trace(tr2)\n",
    "fig.show()\n",
    "\n",
    "print([n for n in flux])\n"
   ]
  },
  {
   "cell_type": "code",
   "execution_count": 36,
   "metadata": {},
   "outputs": [
    {
     "data": {
      "application/vnd.plotly.v1+json": {
       "config": {
        "plotlyServerURL": "https://plot.ly"
       },
       "data": [
        {
         "marker": {
          "opacity": 0.75,
          "size": 5
         },
         "mode": "markers",
         "name": "w1",
         "type": "scatter",
         "x": [
          0,
          0.0003577735447682832,
          0.000715895408336081,
          0.0008946079529255857,
          0.0012527298438433732,
          0.0017895642520006758,
          0.0019686250059499253,
          0.002326398550718209,
          0.002505459578246977,
          0.00304229384961452,
          0.003400067284962939,
          0.5477797437887317,
          0.5481375175797096,
          0.5484952913707074,
          0.5486743525076759,
          0.5488534134531349,
          0.5490321261345141,
          0.5492111871346929,
          0.5495689608983207,
          0.5497476734702802,
          0.549926734443089,
          0.550105795415898,
          0.5502845080972971,
          0.5504635689606663,
          0.550821342724314,
          0.5511791165426618,
          0.9965992367613868,
          0.9969570102240852,
          0.9974938444954528,
          0.9976725567391128,
          0.9980303302018112,
          0.9980306784932408,
          0.99820939114727,
          0.9985671643637389,
          0.9987462252818479,
          0.9992827112617858,
          0.9996422266740913,
          1
         ],
         "y": [
          -1.4232272948648685,
          -1.4100725032066466,
          -1.433093388608534,
          -1.456114274010423,
          -1.6032835056867811,
          -1.6238378676527532,
          -1.5802626202848924,
          -1.5383317218743098,
          -1.5202438833442558,
          -1.4873569041987003,
          -1.510377789600589,
          0.31567172745634603,
          0.3428034852514284,
          0.37815698783290075,
          0.39542265188431625,
          0.3025169357981241,
          0.3534917534737336,
          0.3625356727387621,
          0.32307129776409615,
          0.346092183165985,
          0.34198131077279,
          0.2885399696612637,
          0.36911306856787235,
          0.3090943316272358,
          0.2877177951826253,
          0.25318646707979137,
          0.9207921437345564,
          0.9799887061965545,
          0.915859096862723,
          0.9594343442305825,
          1.039185268658554,
          0.9701226124528878,
          0.968478263495611,
          1.0334300473080824,
          1.0104091619061935,
          0.8928382114608342,
          0.9397021567432503,
          0.9865661020256663
         ]
        }
       ],
       "layout": {
        "font": {
         "family": "Times New Roman",
         "size": 18
        },
        "height": 520,
        "legend": {
         "bgcolor": "rgba(0, 0, 0, 0)",
         "font": {
          "family": "monospace",
          "size": 15
         },
         "x": 1.02,
         "xanchor": "left"
        },
        "margin": {
         "b": 75,
         "l": 100,
         "pad": 0,
         "r": 100,
         "t": 75
        },
        "plot_bgcolor": "rgba(0, 0, 0, 0)",
        "showlegend": true,
        "template": {
         "data": {
          "bar": [
           {
            "error_x": {
             "color": "#2a3f5f"
            },
            "error_y": {
             "color": "#2a3f5f"
            },
            "marker": {
             "line": {
              "color": "#E5ECF6",
              "width": 0.5
             },
             "pattern": {
              "fillmode": "overlay",
              "size": 10,
              "solidity": 0.2
             }
            },
            "type": "bar"
           }
          ],
          "barpolar": [
           {
            "marker": {
             "line": {
              "color": "#E5ECF6",
              "width": 0.5
             },
             "pattern": {
              "fillmode": "overlay",
              "size": 10,
              "solidity": 0.2
             }
            },
            "type": "barpolar"
           }
          ],
          "carpet": [
           {
            "aaxis": {
             "endlinecolor": "#2a3f5f",
             "gridcolor": "white",
             "linecolor": "white",
             "minorgridcolor": "white",
             "startlinecolor": "#2a3f5f"
            },
            "baxis": {
             "endlinecolor": "#2a3f5f",
             "gridcolor": "white",
             "linecolor": "white",
             "minorgridcolor": "white",
             "startlinecolor": "#2a3f5f"
            },
            "type": "carpet"
           }
          ],
          "choropleth": [
           {
            "colorbar": {
             "outlinewidth": 0,
             "ticks": ""
            },
            "type": "choropleth"
           }
          ],
          "contour": [
           {
            "colorbar": {
             "outlinewidth": 0,
             "ticks": ""
            },
            "colorscale": [
             [
              0,
              "#0d0887"
             ],
             [
              0.1111111111111111,
              "#46039f"
             ],
             [
              0.2222222222222222,
              "#7201a8"
             ],
             [
              0.3333333333333333,
              "#9c179e"
             ],
             [
              0.4444444444444444,
              "#bd3786"
             ],
             [
              0.5555555555555556,
              "#d8576b"
             ],
             [
              0.6666666666666666,
              "#ed7953"
             ],
             [
              0.7777777777777778,
              "#fb9f3a"
             ],
             [
              0.8888888888888888,
              "#fdca26"
             ],
             [
              1,
              "#f0f921"
             ]
            ],
            "type": "contour"
           }
          ],
          "contourcarpet": [
           {
            "colorbar": {
             "outlinewidth": 0,
             "ticks": ""
            },
            "type": "contourcarpet"
           }
          ],
          "heatmap": [
           {
            "colorbar": {
             "outlinewidth": 0,
             "ticks": ""
            },
            "colorscale": [
             [
              0,
              "#0d0887"
             ],
             [
              0.1111111111111111,
              "#46039f"
             ],
             [
              0.2222222222222222,
              "#7201a8"
             ],
             [
              0.3333333333333333,
              "#9c179e"
             ],
             [
              0.4444444444444444,
              "#bd3786"
             ],
             [
              0.5555555555555556,
              "#d8576b"
             ],
             [
              0.6666666666666666,
              "#ed7953"
             ],
             [
              0.7777777777777778,
              "#fb9f3a"
             ],
             [
              0.8888888888888888,
              "#fdca26"
             ],
             [
              1,
              "#f0f921"
             ]
            ],
            "type": "heatmap"
           }
          ],
          "heatmapgl": [
           {
            "colorbar": {
             "outlinewidth": 0,
             "ticks": ""
            },
            "colorscale": [
             [
              0,
              "#0d0887"
             ],
             [
              0.1111111111111111,
              "#46039f"
             ],
             [
              0.2222222222222222,
              "#7201a8"
             ],
             [
              0.3333333333333333,
              "#9c179e"
             ],
             [
              0.4444444444444444,
              "#bd3786"
             ],
             [
              0.5555555555555556,
              "#d8576b"
             ],
             [
              0.6666666666666666,
              "#ed7953"
             ],
             [
              0.7777777777777778,
              "#fb9f3a"
             ],
             [
              0.8888888888888888,
              "#fdca26"
             ],
             [
              1,
              "#f0f921"
             ]
            ],
            "type": "heatmapgl"
           }
          ],
          "histogram": [
           {
            "marker": {
             "pattern": {
              "fillmode": "overlay",
              "size": 10,
              "solidity": 0.2
             }
            },
            "type": "histogram"
           }
          ],
          "histogram2d": [
           {
            "colorbar": {
             "outlinewidth": 0,
             "ticks": ""
            },
            "colorscale": [
             [
              0,
              "#0d0887"
             ],
             [
              0.1111111111111111,
              "#46039f"
             ],
             [
              0.2222222222222222,
              "#7201a8"
             ],
             [
              0.3333333333333333,
              "#9c179e"
             ],
             [
              0.4444444444444444,
              "#bd3786"
             ],
             [
              0.5555555555555556,
              "#d8576b"
             ],
             [
              0.6666666666666666,
              "#ed7953"
             ],
             [
              0.7777777777777778,
              "#fb9f3a"
             ],
             [
              0.8888888888888888,
              "#fdca26"
             ],
             [
              1,
              "#f0f921"
             ]
            ],
            "type": "histogram2d"
           }
          ],
          "histogram2dcontour": [
           {
            "colorbar": {
             "outlinewidth": 0,
             "ticks": ""
            },
            "colorscale": [
             [
              0,
              "#0d0887"
             ],
             [
              0.1111111111111111,
              "#46039f"
             ],
             [
              0.2222222222222222,
              "#7201a8"
             ],
             [
              0.3333333333333333,
              "#9c179e"
             ],
             [
              0.4444444444444444,
              "#bd3786"
             ],
             [
              0.5555555555555556,
              "#d8576b"
             ],
             [
              0.6666666666666666,
              "#ed7953"
             ],
             [
              0.7777777777777778,
              "#fb9f3a"
             ],
             [
              0.8888888888888888,
              "#fdca26"
             ],
             [
              1,
              "#f0f921"
             ]
            ],
            "type": "histogram2dcontour"
           }
          ],
          "mesh3d": [
           {
            "colorbar": {
             "outlinewidth": 0,
             "ticks": ""
            },
            "type": "mesh3d"
           }
          ],
          "parcoords": [
           {
            "line": {
             "colorbar": {
              "outlinewidth": 0,
              "ticks": ""
             }
            },
            "type": "parcoords"
           }
          ],
          "pie": [
           {
            "automargin": true,
            "type": "pie"
           }
          ],
          "scatter": [
           {
            "fillpattern": {
             "fillmode": "overlay",
             "size": 10,
             "solidity": 0.2
            },
            "type": "scatter"
           }
          ],
          "scatter3d": [
           {
            "line": {
             "colorbar": {
              "outlinewidth": 0,
              "ticks": ""
             }
            },
            "marker": {
             "colorbar": {
              "outlinewidth": 0,
              "ticks": ""
             }
            },
            "type": "scatter3d"
           }
          ],
          "scattercarpet": [
           {
            "marker": {
             "colorbar": {
              "outlinewidth": 0,
              "ticks": ""
             }
            },
            "type": "scattercarpet"
           }
          ],
          "scattergeo": [
           {
            "marker": {
             "colorbar": {
              "outlinewidth": 0,
              "ticks": ""
             }
            },
            "type": "scattergeo"
           }
          ],
          "scattergl": [
           {
            "marker": {
             "colorbar": {
              "outlinewidth": 0,
              "ticks": ""
             }
            },
            "type": "scattergl"
           }
          ],
          "scattermapbox": [
           {
            "marker": {
             "colorbar": {
              "outlinewidth": 0,
              "ticks": ""
             }
            },
            "type": "scattermapbox"
           }
          ],
          "scatterpolar": [
           {
            "marker": {
             "colorbar": {
              "outlinewidth": 0,
              "ticks": ""
             }
            },
            "type": "scatterpolar"
           }
          ],
          "scatterpolargl": [
           {
            "marker": {
             "colorbar": {
              "outlinewidth": 0,
              "ticks": ""
             }
            },
            "type": "scatterpolargl"
           }
          ],
          "scatterternary": [
           {
            "marker": {
             "colorbar": {
              "outlinewidth": 0,
              "ticks": ""
             }
            },
            "type": "scatterternary"
           }
          ],
          "surface": [
           {
            "colorbar": {
             "outlinewidth": 0,
             "ticks": ""
            },
            "colorscale": [
             [
              0,
              "#0d0887"
             ],
             [
              0.1111111111111111,
              "#46039f"
             ],
             [
              0.2222222222222222,
              "#7201a8"
             ],
             [
              0.3333333333333333,
              "#9c179e"
             ],
             [
              0.4444444444444444,
              "#bd3786"
             ],
             [
              0.5555555555555556,
              "#d8576b"
             ],
             [
              0.6666666666666666,
              "#ed7953"
             ],
             [
              0.7777777777777778,
              "#fb9f3a"
             ],
             [
              0.8888888888888888,
              "#fdca26"
             ],
             [
              1,
              "#f0f921"
             ]
            ],
            "type": "surface"
           }
          ],
          "table": [
           {
            "cells": {
             "fill": {
              "color": "#EBF0F8"
             },
             "line": {
              "color": "white"
             }
            },
            "header": {
             "fill": {
              "color": "#C8D4E3"
             },
             "line": {
              "color": "white"
             }
            },
            "type": "table"
           }
          ]
         },
         "layout": {
          "annotationdefaults": {
           "arrowcolor": "#2a3f5f",
           "arrowhead": 0,
           "arrowwidth": 1
          },
          "autotypenumbers": "strict",
          "coloraxis": {
           "colorbar": {
            "outlinewidth": 0,
            "ticks": ""
           }
          },
          "colorscale": {
           "diverging": [
            [
             0,
             "#8e0152"
            ],
            [
             0.1,
             "#c51b7d"
            ],
            [
             0.2,
             "#de77ae"
            ],
            [
             0.3,
             "#f1b6da"
            ],
            [
             0.4,
             "#fde0ef"
            ],
            [
             0.5,
             "#f7f7f7"
            ],
            [
             0.6,
             "#e6f5d0"
            ],
            [
             0.7,
             "#b8e186"
            ],
            [
             0.8,
             "#7fbc41"
            ],
            [
             0.9,
             "#4d9221"
            ],
            [
             1,
             "#276419"
            ]
           ],
           "sequential": [
            [
             0,
             "#0d0887"
            ],
            [
             0.1111111111111111,
             "#46039f"
            ],
            [
             0.2222222222222222,
             "#7201a8"
            ],
            [
             0.3333333333333333,
             "#9c179e"
            ],
            [
             0.4444444444444444,
             "#bd3786"
            ],
            [
             0.5555555555555556,
             "#d8576b"
            ],
            [
             0.6666666666666666,
             "#ed7953"
            ],
            [
             0.7777777777777778,
             "#fb9f3a"
            ],
            [
             0.8888888888888888,
             "#fdca26"
            ],
            [
             1,
             "#f0f921"
            ]
           ],
           "sequentialminus": [
            [
             0,
             "#0d0887"
            ],
            [
             0.1111111111111111,
             "#46039f"
            ],
            [
             0.2222222222222222,
             "#7201a8"
            ],
            [
             0.3333333333333333,
             "#9c179e"
            ],
            [
             0.4444444444444444,
             "#bd3786"
            ],
            [
             0.5555555555555556,
             "#d8576b"
            ],
            [
             0.6666666666666666,
             "#ed7953"
            ],
            [
             0.7777777777777778,
             "#fb9f3a"
            ],
            [
             0.8888888888888888,
             "#fdca26"
            ],
            [
             1,
             "#f0f921"
            ]
           ]
          },
          "colorway": [
           "#636efa",
           "#EF553B",
           "#00cc96",
           "#ab63fa",
           "#FFA15A",
           "#19d3f3",
           "#FF6692",
           "#B6E880",
           "#FF97FF",
           "#FECB52"
          ],
          "font": {
           "color": "#2a3f5f"
          },
          "geo": {
           "bgcolor": "white",
           "lakecolor": "white",
           "landcolor": "#E5ECF6",
           "showlakes": true,
           "showland": true,
           "subunitcolor": "white"
          },
          "hoverlabel": {
           "align": "left"
          },
          "hovermode": "closest",
          "mapbox": {
           "style": "light"
          },
          "paper_bgcolor": "white",
          "plot_bgcolor": "#E5ECF6",
          "polar": {
           "angularaxis": {
            "gridcolor": "white",
            "linecolor": "white",
            "ticks": ""
           },
           "bgcolor": "#E5ECF6",
           "radialaxis": {
            "gridcolor": "white",
            "linecolor": "white",
            "ticks": ""
           }
          },
          "scene": {
           "xaxis": {
            "backgroundcolor": "#E5ECF6",
            "gridcolor": "white",
            "gridwidth": 2,
            "linecolor": "white",
            "showbackground": true,
            "ticks": "",
            "zerolinecolor": "white"
           },
           "yaxis": {
            "backgroundcolor": "#E5ECF6",
            "gridcolor": "white",
            "gridwidth": 2,
            "linecolor": "white",
            "showbackground": true,
            "ticks": "",
            "zerolinecolor": "white"
           },
           "zaxis": {
            "backgroundcolor": "#E5ECF6",
            "gridcolor": "white",
            "gridwidth": 2,
            "linecolor": "white",
            "showbackground": true,
            "ticks": "",
            "zerolinecolor": "white"
           }
          },
          "shapedefaults": {
           "line": {
            "color": "#2a3f5f"
           }
          },
          "ternary": {
           "aaxis": {
            "gridcolor": "white",
            "linecolor": "white",
            "ticks": ""
           },
           "baxis": {
            "gridcolor": "white",
            "linecolor": "white",
            "ticks": ""
           },
           "bgcolor": "#E5ECF6",
           "caxis": {
            "gridcolor": "white",
            "linecolor": "white",
            "ticks": ""
           }
          },
          "title": {
           "x": 0.05
          },
          "xaxis": {
           "automargin": true,
           "gridcolor": "white",
           "linecolor": "white",
           "ticks": "",
           "title": {
            "standoff": 15
           },
           "zerolinecolor": "white",
           "zerolinewidth": 2
          },
          "yaxis": {
           "automargin": true,
           "gridcolor": "white",
           "linecolor": "white",
           "ticks": "",
           "title": {
            "standoff": 15
           },
           "zerolinecolor": "white",
           "zerolinewidth": 2
          }
         }
        },
        "title": {
         "font": {
          "size": 18
         }
        },
        "width": 800,
        "xaxis": {
         "gridcolor": "rgba(0, 0, 0, .15)",
         "linecolor": "black",
         "minor": {
          "gridcolor": "rgba(1, 1, 1, .05)",
          "showgrid": true,
          "ticklen": 1,
          "ticks": "inside"
         },
         "mirror": true,
         "showgrid": true,
         "showline": true,
         "ticks": "inside",
         "title": {
          "font": {
           "size": 18
          }
         },
         "zeroline": false,
         "zerolinecolor": "rgba(0, 0, 0, .15)"
        },
        "yaxis": {
         "gridcolor": "rgba(0, 0, 0, .15)",
         "linecolor": "black",
         "minor": {
          "gridcolor": "rgba(1, 1, 1, .05)",
          "showgrid": true,
          "ticklen": 1,
          "ticks": "inside"
         },
         "mirror": true,
         "showgrid": true,
         "showline": true,
         "ticks": "inside",
         "title": {
          "font": {
           "size": 18
          }
         },
         "zeroline": false,
         "zerolinecolor": "rgba(0, 0, 0, .15)"
        }
       }
      }
     },
     "metadata": {},
     "output_type": "display_data"
    }
   ],
   "source": [
    "c = get_coordinates(\"19 52 08.25\t+27 42 20.9\")\n",
    "\n",
    "tbl = Irsa.query_region(c, catalog=\"neowiser_p1bs_psd\", spatial=\"Cone\",\n",
    "                            radius=3 * u.arcsec)\n",
    "tbl = tbl.to_pandas()\n",
    "tbl = tbl.loc[tbl[\"qual_frame\"]>= 4]\n",
    "ex = LightSource(tbl)\n",
    "plot_from_lightsource(ex)\n"
   ]
  },
  {
   "cell_type": "code",
   "execution_count": 29,
   "metadata": {},
   "outputs": [
    {
     "data": {
      "text/plain": [
       "308"
      ]
     },
     "execution_count": 29,
     "metadata": {},
     "output_type": "execute_result"
    }
   ],
   "source": [
    "tbl[]"
   ]
  },
  {
   "cell_type": "code",
   "execution_count": 33,
   "metadata": {},
   "outputs": [
    {
     "data": {
      "text/html": [
       "<div>\n",
       "<style scoped>\n",
       "    .dataframe tbody tr th:only-of-type {\n",
       "        vertical-align: middle;\n",
       "    }\n",
       "\n",
       "    .dataframe tbody tr th {\n",
       "        vertical-align: top;\n",
       "    }\n",
       "\n",
       "    .dataframe thead th {\n",
       "        text-align: right;\n",
       "    }\n",
       "</style>\n",
       "<table border=\"1\" class=\"dataframe\">\n",
       "  <thead>\n",
       "    <tr style=\"text-align: right;\">\n",
       "      <th></th>\n",
       "      <th>ra</th>\n",
       "      <th>dec</th>\n",
       "      <th>sigra</th>\n",
       "      <th>sigdec</th>\n",
       "      <th>sigradec</th>\n",
       "      <th>glon</th>\n",
       "      <th>glat</th>\n",
       "      <th>elon</th>\n",
       "      <th>elat</th>\n",
       "      <th>w1x</th>\n",
       "      <th>...</th>\n",
       "      <th>j_msig_2mass</th>\n",
       "      <th>h_m_2mass</th>\n",
       "      <th>h_msig_2mass</th>\n",
       "      <th>k_m_2mass</th>\n",
       "      <th>k_msig_2mass</th>\n",
       "      <th>x</th>\n",
       "      <th>y</th>\n",
       "      <th>z</th>\n",
       "      <th>spt_ind</th>\n",
       "      <th>htm20</th>\n",
       "    </tr>\n",
       "  </thead>\n",
       "  <tbody>\n",
       "    <tr>\n",
       "      <th>0</th>\n",
       "      <td>298.034719</td>\n",
       "      <td>27.706375</td>\n",
       "      <td>0.0666</td>\n",
       "      <td>0.0707</td>\n",
       "      <td>0.0110</td>\n",
       "      <td>64.229114</td>\n",
       "      <td>0.329171</td>\n",
       "      <td>308.029944</td>\n",
       "      <td>47.512182</td>\n",
       "      <td>349.064</td>\n",
       "      <td>...</td>\n",
       "      <td>0.0217</td>\n",
       "      <td>12.909</td>\n",
       "      <td>0.0206</td>\n",
       "      <td>12.741</td>\n",
       "      <td>0.0182</td>\n",
       "      <td>0.416116</td>\n",
       "      <td>-0.781458</td>\n",
       "      <td>0.464941</td>\n",
       "      <td>203320020</td>\n",
       "      <td>14259834931654</td>\n",
       "    </tr>\n",
       "    <tr>\n",
       "      <th>1</th>\n",
       "      <td>298.034639</td>\n",
       "      <td>27.706375</td>\n",
       "      <td>0.0977</td>\n",
       "      <td>0.0903</td>\n",
       "      <td>-0.0324</td>\n",
       "      <td>64.229078</td>\n",
       "      <td>0.329232</td>\n",
       "      <td>308.029843</td>\n",
       "      <td>47.512202</td>\n",
       "      <td>83.359</td>\n",
       "      <td>...</td>\n",
       "      <td>0.0217</td>\n",
       "      <td>12.909</td>\n",
       "      <td>0.0206</td>\n",
       "      <td>12.741</td>\n",
       "      <td>0.0182</td>\n",
       "      <td>0.416115</td>\n",
       "      <td>-0.781459</td>\n",
       "      <td>0.464941</td>\n",
       "      <td>203320020</td>\n",
       "      <td>14259834931663</td>\n",
       "    </tr>\n",
       "    <tr>\n",
       "      <th>2</th>\n",
       "      <td>298.034713</td>\n",
       "      <td>27.706375</td>\n",
       "      <td>0.0798</td>\n",
       "      <td>0.0666</td>\n",
       "      <td>-0.0075</td>\n",
       "      <td>64.229111</td>\n",
       "      <td>0.329176</td>\n",
       "      <td>308.029936</td>\n",
       "      <td>47.512183</td>\n",
       "      <td>42.345</td>\n",
       "      <td>...</td>\n",
       "      <td>0.0217</td>\n",
       "      <td>12.909</td>\n",
       "      <td>0.0206</td>\n",
       "      <td>12.741</td>\n",
       "      <td>0.0182</td>\n",
       "      <td>0.416116</td>\n",
       "      <td>-0.781459</td>\n",
       "      <td>0.464941</td>\n",
       "      <td>203320020</td>\n",
       "      <td>14259834931654</td>\n",
       "    </tr>\n",
       "    <tr>\n",
       "      <th>3</th>\n",
       "      <td>298.034726</td>\n",
       "      <td>27.706401</td>\n",
       "      <td>0.0714</td>\n",
       "      <td>0.0711</td>\n",
       "      <td>-0.0173</td>\n",
       "      <td>64.229139</td>\n",
       "      <td>0.329179</td>\n",
       "      <td>308.029963</td>\n",
       "      <td>47.512204</td>\n",
       "      <td>717.716</td>\n",
       "      <td>...</td>\n",
       "      <td>0.0217</td>\n",
       "      <td>12.909</td>\n",
       "      <td>0.0206</td>\n",
       "      <td>12.741</td>\n",
       "      <td>0.0182</td>\n",
       "      <td>0.416116</td>\n",
       "      <td>-0.781458</td>\n",
       "      <td>0.464941</td>\n",
       "      <td>203320020</td>\n",
       "      <td>14259834931654</td>\n",
       "    </tr>\n",
       "    <tr>\n",
       "      <th>4</th>\n",
       "      <td>298.034692</td>\n",
       "      <td>27.706385</td>\n",
       "      <td>0.0608</td>\n",
       "      <td>0.0661</td>\n",
       "      <td>-0.0215</td>\n",
       "      <td>64.229110</td>\n",
       "      <td>0.329196</td>\n",
       "      <td>308.029914</td>\n",
       "      <td>47.512197</td>\n",
       "      <td>927.552</td>\n",
       "      <td>...</td>\n",
       "      <td>0.0217</td>\n",
       "      <td>12.909</td>\n",
       "      <td>0.0206</td>\n",
       "      <td>12.741</td>\n",
       "      <td>0.0182</td>\n",
       "      <td>0.416116</td>\n",
       "      <td>-0.781459</td>\n",
       "      <td>0.464941</td>\n",
       "      <td>203320020</td>\n",
       "      <td>14259834931654</td>\n",
       "    </tr>\n",
       "    <tr>\n",
       "      <th>5</th>\n",
       "      <td>298.034698</td>\n",
       "      <td>27.706433</td>\n",
       "      <td>0.0696</td>\n",
       "      <td>0.0810</td>\n",
       "      <td>-0.0128</td>\n",
       "      <td>64.229154</td>\n",
       "      <td>0.329217</td>\n",
       "      <td>308.029941</td>\n",
       "      <td>47.512242</td>\n",
       "      <td>468.534</td>\n",
       "      <td>...</td>\n",
       "      <td>0.0217</td>\n",
       "      <td>12.909</td>\n",
       "      <td>0.0206</td>\n",
       "      <td>12.741</td>\n",
       "      <td>0.0182</td>\n",
       "      <td>0.416116</td>\n",
       "      <td>-0.781458</td>\n",
       "      <td>0.464941</td>\n",
       "      <td>203320020</td>\n",
       "      <td>14259834931655</td>\n",
       "    </tr>\n",
       "    <tr>\n",
       "      <th>8</th>\n",
       "      <td>298.034644</td>\n",
       "      <td>27.706334</td>\n",
       "      <td>0.0753</td>\n",
       "      <td>0.0831</td>\n",
       "      <td>0.0229</td>\n",
       "      <td>64.229045</td>\n",
       "      <td>0.329207</td>\n",
       "      <td>308.029832</td>\n",
       "      <td>47.512160</td>\n",
       "      <td>350.402</td>\n",
       "      <td>...</td>\n",
       "      <td>0.0217</td>\n",
       "      <td>12.909</td>\n",
       "      <td>0.0206</td>\n",
       "      <td>12.741</td>\n",
       "      <td>0.0182</td>\n",
       "      <td>0.416116</td>\n",
       "      <td>-0.781459</td>\n",
       "      <td>0.464940</td>\n",
       "      <td>203320020</td>\n",
       "      <td>14259834931662</td>\n",
       "    </tr>\n",
       "    <tr>\n",
       "      <th>9</th>\n",
       "      <td>298.034664</td>\n",
       "      <td>27.706387</td>\n",
       "      <td>0.0690</td>\n",
       "      <td>0.0789</td>\n",
       "      <td>-0.0233</td>\n",
       "      <td>64.229099</td>\n",
       "      <td>0.329220</td>\n",
       "      <td>308.029879</td>\n",
       "      <td>47.512207</td>\n",
       "      <td>662.518</td>\n",
       "      <td>...</td>\n",
       "      <td>0.0217</td>\n",
       "      <td>12.909</td>\n",
       "      <td>0.0206</td>\n",
       "      <td>12.741</td>\n",
       "      <td>0.0182</td>\n",
       "      <td>0.416116</td>\n",
       "      <td>-0.781459</td>\n",
       "      <td>0.464941</td>\n",
       "      <td>203320020</td>\n",
       "      <td>14259834931662</td>\n",
       "    </tr>\n",
       "    <tr>\n",
       "      <th>10</th>\n",
       "      <td>298.034682</td>\n",
       "      <td>27.706386</td>\n",
       "      <td>0.0613</td>\n",
       "      <td>0.0638</td>\n",
       "      <td>-0.0171</td>\n",
       "      <td>64.229107</td>\n",
       "      <td>0.329205</td>\n",
       "      <td>308.029902</td>\n",
       "      <td>47.512201</td>\n",
       "      <td>284.668</td>\n",
       "      <td>...</td>\n",
       "      <td>0.0217</td>\n",
       "      <td>12.909</td>\n",
       "      <td>0.0206</td>\n",
       "      <td>12.741</td>\n",
       "      <td>0.0182</td>\n",
       "      <td>0.416116</td>\n",
       "      <td>-0.781459</td>\n",
       "      <td>0.464941</td>\n",
       "      <td>203320020</td>\n",
       "      <td>14259834931662</td>\n",
       "    </tr>\n",
       "    <tr>\n",
       "      <th>11</th>\n",
       "      <td>298.034671</td>\n",
       "      <td>27.706319</td>\n",
       "      <td>0.0772</td>\n",
       "      <td>0.0710</td>\n",
       "      <td>-0.0260</td>\n",
       "      <td>64.229044</td>\n",
       "      <td>0.329179</td>\n",
       "      <td>308.029860</td>\n",
       "      <td>47.512140</td>\n",
       "      <td>165.136</td>\n",
       "      <td>...</td>\n",
       "      <td>0.0217</td>\n",
       "      <td>12.909</td>\n",
       "      <td>0.0206</td>\n",
       "      <td>12.741</td>\n",
       "      <td>0.0182</td>\n",
       "      <td>0.416116</td>\n",
       "      <td>-0.781459</td>\n",
       "      <td>0.464940</td>\n",
       "      <td>203320020</td>\n",
       "      <td>14259834931662</td>\n",
       "    </tr>\n",
       "    <tr>\n",
       "      <th>13</th>\n",
       "      <td>298.034699</td>\n",
       "      <td>27.706352</td>\n",
       "      <td>0.0689</td>\n",
       "      <td>0.0759</td>\n",
       "      <td>-0.0320</td>\n",
       "      <td>64.229085</td>\n",
       "      <td>0.329174</td>\n",
       "      <td>308.029910</td>\n",
       "      <td>47.512164</td>\n",
       "      <td>866.851</td>\n",
       "      <td>...</td>\n",
       "      <td>0.0217</td>\n",
       "      <td>12.909</td>\n",
       "      <td>0.0206</td>\n",
       "      <td>12.741</td>\n",
       "      <td>0.0182</td>\n",
       "      <td>0.416116</td>\n",
       "      <td>-0.781459</td>\n",
       "      <td>0.464940</td>\n",
       "      <td>203320020</td>\n",
       "      <td>14259834931662</td>\n",
       "    </tr>\n",
       "    <tr>\n",
       "      <th>14</th>\n",
       "      <td>298.034660</td>\n",
       "      <td>27.706400</td>\n",
       "      <td>0.0775</td>\n",
       "      <td>0.0857</td>\n",
       "      <td>-0.0323</td>\n",
       "      <td>64.229109</td>\n",
       "      <td>0.329228</td>\n",
       "      <td>308.029880</td>\n",
       "      <td>47.512220</td>\n",
       "      <td>536.232</td>\n",
       "      <td>...</td>\n",
       "      <td>0.0217</td>\n",
       "      <td>12.909</td>\n",
       "      <td>0.0206</td>\n",
       "      <td>12.741</td>\n",
       "      <td>0.0182</td>\n",
       "      <td>0.416116</td>\n",
       "      <td>-0.781459</td>\n",
       "      <td>0.464941</td>\n",
       "      <td>203320020</td>\n",
       "      <td>14259834931663</td>\n",
       "    </tr>\n",
       "  </tbody>\n",
       "</table>\n",
       "<p>12 rows × 143 columns</p>\n",
       "</div>"
      ],
      "text/plain": [
       "            ra        dec   sigra  sigdec  sigradec       glon      glat  \\\n",
       "0   298.034719  27.706375  0.0666  0.0707    0.0110  64.229114  0.329171   \n",
       "1   298.034639  27.706375  0.0977  0.0903   -0.0324  64.229078  0.329232   \n",
       "2   298.034713  27.706375  0.0798  0.0666   -0.0075  64.229111  0.329176   \n",
       "3   298.034726  27.706401  0.0714  0.0711   -0.0173  64.229139  0.329179   \n",
       "4   298.034692  27.706385  0.0608  0.0661   -0.0215  64.229110  0.329196   \n",
       "5   298.034698  27.706433  0.0696  0.0810   -0.0128  64.229154  0.329217   \n",
       "8   298.034644  27.706334  0.0753  0.0831    0.0229  64.229045  0.329207   \n",
       "9   298.034664  27.706387  0.0690  0.0789   -0.0233  64.229099  0.329220   \n",
       "10  298.034682  27.706386  0.0613  0.0638   -0.0171  64.229107  0.329205   \n",
       "11  298.034671  27.706319  0.0772  0.0710   -0.0260  64.229044  0.329179   \n",
       "13  298.034699  27.706352  0.0689  0.0759   -0.0320  64.229085  0.329174   \n",
       "14  298.034660  27.706400  0.0775  0.0857   -0.0323  64.229109  0.329228   \n",
       "\n",
       "          elon       elat      w1x  ...  j_msig_2mass  h_m_2mass  \\\n",
       "0   308.029944  47.512182  349.064  ...        0.0217     12.909   \n",
       "1   308.029843  47.512202   83.359  ...        0.0217     12.909   \n",
       "2   308.029936  47.512183   42.345  ...        0.0217     12.909   \n",
       "3   308.029963  47.512204  717.716  ...        0.0217     12.909   \n",
       "4   308.029914  47.512197  927.552  ...        0.0217     12.909   \n",
       "5   308.029941  47.512242  468.534  ...        0.0217     12.909   \n",
       "8   308.029832  47.512160  350.402  ...        0.0217     12.909   \n",
       "9   308.029879  47.512207  662.518  ...        0.0217     12.909   \n",
       "10  308.029902  47.512201  284.668  ...        0.0217     12.909   \n",
       "11  308.029860  47.512140  165.136  ...        0.0217     12.909   \n",
       "13  308.029910  47.512164  866.851  ...        0.0217     12.909   \n",
       "14  308.029880  47.512220  536.232  ...        0.0217     12.909   \n",
       "\n",
       "    h_msig_2mass  k_m_2mass k_msig_2mass         x         y         z  \\\n",
       "0         0.0206     12.741       0.0182  0.416116 -0.781458  0.464941   \n",
       "1         0.0206     12.741       0.0182  0.416115 -0.781459  0.464941   \n",
       "2         0.0206     12.741       0.0182  0.416116 -0.781459  0.464941   \n",
       "3         0.0206     12.741       0.0182  0.416116 -0.781458  0.464941   \n",
       "4         0.0206     12.741       0.0182  0.416116 -0.781459  0.464941   \n",
       "5         0.0206     12.741       0.0182  0.416116 -0.781458  0.464941   \n",
       "8         0.0206     12.741       0.0182  0.416116 -0.781459  0.464940   \n",
       "9         0.0206     12.741       0.0182  0.416116 -0.781459  0.464941   \n",
       "10        0.0206     12.741       0.0182  0.416116 -0.781459  0.464941   \n",
       "11        0.0206     12.741       0.0182  0.416116 -0.781459  0.464940   \n",
       "13        0.0206     12.741       0.0182  0.416116 -0.781459  0.464940   \n",
       "14        0.0206     12.741       0.0182  0.416116 -0.781459  0.464941   \n",
       "\n",
       "      spt_ind           htm20  \n",
       "0   203320020  14259834931654  \n",
       "1   203320020  14259834931663  \n",
       "2   203320020  14259834931654  \n",
       "3   203320020  14259834931654  \n",
       "4   203320020  14259834931654  \n",
       "5   203320020  14259834931655  \n",
       "8   203320020  14259834931662  \n",
       "9   203320020  14259834931662  \n",
       "10  203320020  14259834931662  \n",
       "11  203320020  14259834931662  \n",
       "13  203320020  14259834931662  \n",
       "14  203320020  14259834931663  \n",
       "\n",
       "[12 rows x 143 columns]"
      ]
     },
     "execution_count": 33,
     "metadata": {},
     "output_type": "execute_result"
    }
   ],
   "source": [
    "df = ex.get_pandas()\n",
    "np.mean(df[\"ra\"]), np.mean(df[\"dec\"])\n",
    "df"
   ]
  }
 ],
 "metadata": {
  "kernelspec": {
   "display_name": "Python 3",
   "language": "python",
   "name": "python3"
  },
  "language_info": {
   "codemirror_mode": {
    "name": "ipython",
    "version": 3
   },
   "file_extension": ".py",
   "mimetype": "text/x-python",
   "name": "python",
   "nbconvert_exporter": "python",
   "pygments_lexer": "ipython3",
   "version": "3.11.2"
  }
 },
 "nbformat": 4,
 "nbformat_minor": 2
}
